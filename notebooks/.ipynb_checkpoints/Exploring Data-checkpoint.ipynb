{
 "cells": [
  {
   "cell_type": "code",
   "execution_count": 1,
   "metadata": {
    "collapsed": true
   },
   "outputs": [],
   "source": [
    "import sklearn\n",
    "import pandas as pd\n",
    "import numpy as np"
   ]
  },
  {
   "cell_type": "code",
   "execution_count": 17,
   "metadata": {
    "collapsed": true
   },
   "outputs": [],
   "source": [
    "import matplotlib as mpl\n",
    "import matplotlib.pyplot as plt\n",
    "%matplotlib inline\n",
    "import seaborn as sns"
   ]
  },
  {
   "cell_type": "code",
   "execution_count": 2,
   "metadata": {
    "collapsed": false
   },
   "outputs": [
    {
     "name": "stdout",
     "output_type": "stream",
     "text": [
      "Welcome to the HoloViews IPython extension! (http://ioam.github.io/holoviews/)\n",
      "Available magics: %compositor, %opts, %params, %view, %%labels, %%opts, %%view\n"
     ]
    },
    {
     "name": "stderr",
     "output_type": "stream",
     "text": [
      ":0: FutureWarning: IPython widgets are experimental and may change in the future.\n"
     ]
    }
   ],
   "source": [
    "import holoviews as hv\n",
    "%load_ext holoviews.ipython"
   ]
  },
  {
   "cell_type": "code",
   "execution_count": 3,
   "metadata": {
    "collapsed": false
   },
   "outputs": [
    {
     "name": "stderr",
     "output_type": "stream",
     "text": [
      "ERROR: Line magic function `%output` not found.\n"
     ]
    }
   ],
   "source": [
    "%output holomap='widgets'"
   ]
  },
  {
   "cell_type": "code",
   "execution_count": 4,
   "metadata": {
    "collapsed": true
   },
   "outputs": [],
   "source": [
    "train = pd.read_csv('../data/train.csv')"
   ]
  },
  {
   "cell_type": "code",
   "execution_count": 5,
   "metadata": {
    "collapsed": true
   },
   "outputs": [],
   "source": [
    "test = pd.read_csv('../data/test.csv')"
   ]
  },
  {
   "cell_type": "code",
   "execution_count": 6,
   "metadata": {
    "collapsed": false,
    "scrolled": true
   },
   "outputs": [
    {
     "name": "stdout",
     "output_type": "stream",
     "text": [
      "      Id   Open Date            City  City Group Type  P1   P2   P3   P4  P5  \\\n",
      "0      0  07/17/1999        İstanbul  Big Cities   IL   4  5.0  4.0  4.0   2   \n",
      "1      1  02/14/2008          Ankara  Big Cities   FC   4  5.0  4.0  4.0   1   \n",
      "2      2  03/09/2013      Diyarbakır       Other   IL   2  4.0  2.0  5.0   2   \n",
      "3      3  02/02/2012           Tokat       Other   IL   6  4.5  6.0  6.0   4   \n",
      "4      4  05/09/2009       Gaziantep       Other   IL   3  4.0  3.0  4.0   2   \n",
      "5      5  02/12/2010          Ankara  Big Cities   FC   6  6.0  4.5  7.5   8   \n",
      "6      6  10/11/2010        İstanbul  Big Cities   IL   2  3.0  4.0  4.0   1   \n",
      "7      7  06/21/2011        İstanbul  Big Cities   IL   4  5.0  4.0  5.0   2   \n",
      "8      8  08/28/2010  Afyonkarahisar       Other   IL   1  1.0  4.0  4.0   1   \n",
      "9      9  11/16/2011          Edirne       Other   IL   6  4.5  6.0  7.5   6   \n",
      "10    10  08/09/2013         Kocaeli       Other   FC   9  6.0  6.0  6.0   4   \n",
      "11    11  05/22/2012        İstanbul  Big Cities   IL   2  4.0  4.0  4.0   2   \n",
      "12    12  02/28/2013          Ankara  Big Cities   IL   2  2.0  4.0  4.0   2   \n",
      "13    13  10/16/2010        İstanbul  Big Cities   FC   4  5.0  4.0  4.0   1   \n",
      "14    14  12/29/2011           Bursa       Other   FC   2  2.0  4.0  4.0   1   \n",
      "15    15  02/07/2012        İstanbul  Big Cities   IL  12  7.5  6.0  6.0   2   \n",
      "16    16  01/07/2000        İstanbul  Big Cities   FC   3  5.0  4.0  4.0   2   \n",
      "17    17  11/08/2009        İstanbul  Big Cities   FC   2  4.0  4.0  5.0   1   \n",
      "18    18  04/21/2012           İzmir  Big Cities   IL   4  5.0  4.0  3.0   1   \n",
      "19    19  08/16/2011         Sakarya       Other   IL   2  4.0  4.0  4.0   2   \n",
      "20    20  08/25/2010          Elazığ       Other   IL   3  4.0  4.0  4.0   2   \n",
      "21    21  01/25/2014        İstanbul  Big Cities   FC   5  5.0  4.0  4.0   2   \n",
      "22    22  07/01/2006         Kayseri       Other   FC   9  6.0  6.0  6.0   4   \n",
      "23    23  06/03/2009         Sakarya       Other   FC   2  4.0  4.0  4.0   2   \n",
      "24    24  09/20/2009        İstanbul  Big Cities   IL   5  5.0  3.0  5.0   2   \n",
      "25    25  12/23/2011       Eskişehir       Other   FC   4  4.0  5.0  5.0   2   \n",
      "26    26  02/23/2010          Ankara  Big Cities   IL   3  5.0  4.0  5.0   2   \n",
      "27    27  10/09/1999           Bursa       Other   FC   4  5.0  4.0  3.0   1   \n",
      "28    28  01/28/1998        İstanbul  Big Cities   IL   4  5.0  4.0  4.0   1   \n",
      "29    29  10/13/2006          Ankara  Big Cities   FC   1  1.0  4.0  4.0   2   \n",
      "..   ...         ...             ...         ...  ...  ..  ...  ...  ...  ..   \n",
      "107  107  05/01/2011          Samsun       Other   IL   4  4.0  4.0  4.0   1   \n",
      "108  108  07/09/2012           Muğla       Other   FC   1  2.0  5.0  4.0   1   \n",
      "109  109  08/25/2007          Ankara  Big Cities   FC   2  4.0  3.0  5.0   4   \n",
      "110  110  09/26/2012          Amasya       Other   IL   6  3.0  6.0  6.0   4   \n",
      "111  111  08/10/2012         Kütahya       Other   FC   2  3.0  4.0  4.0   2   \n",
      "112  112  03/14/1998        İstanbul  Big Cities   IL   4  5.0  5.0  4.0   1   \n",
      "113  113  12/09/2006        Tekirdağ       Other   FC   3  4.0  4.0  4.0   1   \n",
      "114  114  12/06/2008       Eskişehir       Other   IL   4  5.0  5.0  4.0   2   \n",
      "115  115  05/04/2012        İstanbul  Big Cities   IL   6  4.5  6.0  6.0   4   \n",
      "116  116  03/30/2012           İzmir  Big Cities   FC   2  4.0  4.0  4.0   2   \n",
      "117  117  12/27/2005          Ankara  Big Cities   IL   3  5.0  4.0  5.0   3   \n",
      "118  118  12/25/2009        İstanbul  Big Cities   IL  12  7.5  7.5  4.5   2   \n",
      "119  119  01/03/2014        İstanbul  Big Cities   IL   4  5.0  4.0  4.0   2   \n",
      "120  120  08/18/2011           Aydın       Other   FC   2  3.0  4.0  4.0   2   \n",
      "121  121  11/13/2004           İzmir  Big Cities   FC   2  4.0  4.0  4.0   2   \n",
      "122  122  04/10/1997        İstanbul  Big Cities   IL  12  7.5  6.0  7.5   2   \n",
      "123  123  11/05/2011            Bolu       Other   FC   1  1.0  4.0  3.0   1   \n",
      "124  124  08/18/2005          Ankara  Big Cities   DT   1  3.0  0.0  5.0   5   \n",
      "125  125  09/01/2010         Trabzon       Other   IL   9  6.0  6.0  6.0   4   \n",
      "126  126  07/20/2008         Isparta       Other   IL   3  3.0  4.0  4.0   2   \n",
      "127  127  09/07/2007           Bursa       Other   FC   3  4.0  4.0  4.0   2   \n",
      "128  128  10/14/2011          Ankara  Big Cities   FC   2  4.0  4.0  4.0   1   \n",
      "129  129  02/08/2007       Eskişehir       Other   FC   4  5.0  5.0  4.0   2   \n",
      "130  130  10/29/2011        Osmaniye       Other   FC   3  4.0  3.0  4.0   2   \n",
      "131  131  11/06/2002          Ankara  Big Cities   FC   3  4.0  4.0  5.0   3   \n",
      "132  132  06/25/2008         Trabzon       Other   FC   2  3.0  3.0  5.0   4   \n",
      "133  133  10/12/2006           İzmir  Big Cities   FC   4  5.0  4.0  4.0   2   \n",
      "134  134  07/08/2006         Kayseri       Other   FC   3  4.0  4.0  4.0   2   \n",
      "135  135  10/29/2010        İstanbul  Big Cities   FC   4  5.0  4.0  5.0   2   \n",
      "136  136  09/01/2009        İstanbul  Big Cities   FC   4  5.0  3.0  5.0   2   \n",
      "\n",
      "       ...     P29  P30  P31  P32  P33  P34  P35  P36  P37   revenue  \n",
      "0      ...     3.0    5    3    4    5    5    4    3    4   5653753  \n",
      "1      ...     3.0    0    0    0    0    0    0    0    0   6923131  \n",
      "2      ...     3.0    0    0    0    0    0    0    0    0   2055379  \n",
      "3      ...     7.5   25   12   10    6   18   12   12    6   2675511  \n",
      "4      ...     3.0    5    1    3    2    3    4    3    3   4316715  \n",
      "5      ...     5.0    0    0    0    0    0    0    0    0   5017319  \n",
      "6      ...     3.0    4    5    2    2    3    5    4    4   5166635  \n",
      "7      ...     2.0    0    0    0    0    0    0    0    0   4491607  \n",
      "8      ...     3.0    4    5    5    3    4    5    4    5   4952497  \n",
      "9      ...     2.5    0    0    0    0    0    0    0    0   5444227  \n",
      "10     ...     2.5    0    0    0    0    0    0    0    0   3745135  \n",
      "11     ...     3.0    5    5    4    2    3    4    4    2   5161370  \n",
      "12     ...     3.0    0    0    0    0    0    0    0    0   1734634  \n",
      "13     ...     3.0    0    0    0    0    0    0    0    0   4807746  \n",
      "14     ...     3.0    0    0    0    0    0    0    0    0   1999097  \n",
      "15     ...     7.5    5   15   20    2   12    3   16    4   3218918  \n",
      "16     ...     2.0    0    0    0    0    0    0    0    0  19696939  \n",
      "17     ...     1.0    0    0    0    0    0    0    0    0   8213524  \n",
      "18     ...     3.0    3    5    5    4    4    4    3    2   5337526  \n",
      "19     ...     3.0    0    0    0    0    0    0    0    0   2021934  \n",
      "20     ...     3.0    5    1    2    2    4    5    5    4   5525735  \n",
      "21     ...     1.0    0    0    0    0    0    0    0    0   1149870  \n",
      "22     ...     7.5    0    0    0    0    0    0    0    0   3956086  \n",
      "23     ...     3.0    0    0    0    0    0    0    0    0   2999068  \n",
      "24     ...     2.0    5    5    4    4    4    4    5    2   8904084  \n",
      "25     ...     3.0    0    0    0    0    0    0    0    0   3778621  \n",
      "26     ...     3.0    5    5    4    3    3    4    3    1   2267425  \n",
      "27     ...     3.0    0    0    0    0    0    0    0    0   5435276  \n",
      "28     ...     2.0    3    5    5    2    3    5    4    4   4705945  \n",
      "29     ...     3.0    0    0    0    0    0    0    0    0   3447890  \n",
      "..     ...     ...  ...  ...  ...  ...  ...  ...  ...  ...       ...  \n",
      "107    ...     1.0    5    5    5    3    4    4    4    3   3248660  \n",
      "108    ...     3.0    0    0    0    0    0    0    0    0   3570392  \n",
      "109    ...     2.0    0    0    0    0    0    0    0    0   4219263  \n",
      "110    ...     7.5   15    3   15    6   18   12   16    6   2954086  \n",
      "111    ...     3.0    0    0    0    0    0    0    0    0   2993069  \n",
      "112    ...     3.0    3    2    1    2    2    1    3    3   3784230  \n",
      "113    ...     2.0    0    0    0    0    0    0    0    0   2097022  \n",
      "114    ...     1.0    5    3    3    2    3    4    3    1   4155435  \n",
      "115    ...     7.5   25   15   25    4   18   12   16    8   4882985  \n",
      "116    ...     3.0    0    0    0    0    0    0    0    0   8894598  \n",
      "117    ...     1.0    3    3    3    2    3    4    3    1   2018785  \n",
      "118    ...     5.0   25    6   10    4   18   12   12    2   1847826  \n",
      "119    ...     3.0    0    0    0    0    0    0    0    0   3780019  \n",
      "120    ...     3.0    0    0    0    0    0    0    0    0   4067566  \n",
      "121    ...     3.0    0    0    0    0    0    0    0    0   3445076  \n",
      "122    ...     2.5   25   15   25    6   18    3   16    6   4286645  \n",
      "123    ...     3.0    0    0    0    0    0    0    0    0   4263629  \n",
      "124    ...     3.0    0    0    0    0    0    0    0    0   3810007  \n",
      "125    ...     7.5   20    9   15    4   24   12   16    2   4780607  \n",
      "126    ...     3.0    5    5    5    4    2    5    3    2   4015749  \n",
      "127    ...     3.0    0    0    0    0    0    0    0    0   7592272  \n",
      "128    ...     2.0    0    0    0    0    0    0    0    0   2383840  \n",
      "129    ...     1.0    0    0    0    0    0    0    0    0   3939804  \n",
      "130    ...     3.0    0    0    0    0    0    0    0    0   3376145  \n",
      "131    ...     2.0    0    0    0    0    0    0    0    0   3199619  \n",
      "132    ...     3.0    0    0    0    0    0    0    0    0   5787594  \n",
      "133    ...     3.0    0    0    0    0    0    0    0    0   9262754  \n",
      "134    ...     3.0    0    0    0    0    0    0    0    0   2544857  \n",
      "135    ...     3.0    0    0    0    0    0    0    0    0   7217634  \n",
      "136    ...     3.0    0    0    0    0    0    0    0    0   6363241  \n",
      "\n",
      "[137 rows x 43 columns]\n"
     ]
    }
   ],
   "source": [
    "print train"
   ]
  },
  {
   "cell_type": "code",
   "execution_count": 7,
   "metadata": {
    "collapsed": true
   },
   "outputs": [],
   "source": [
    "train['Age'] = 2015-pd.DatetimeIndex(train['Open Date']).year"
   ]
  },
  {
   "cell_type": "code",
   "execution_count": 8,
   "metadata": {
    "collapsed": true
   },
   "outputs": [],
   "source": [
    "hvtrain = hv.DFrame(train)"
   ]
  },
  {
   "cell_type": "code",
   "execution_count": 9,
   "metadata": {
    "collapsed": false
   },
   "outputs": [
    {
     "data": {
      "text/plain": [
       "Index([u'Id', u'Open Date', u'City', u'City Group', u'Type', u'P1', u'P2', u'P3', u'P4', u'P5', u'P6', u'P7', u'P8', u'P9', u'P10', u'P11', u'P12', u'P13', u'P14', u'P15', u'P16', u'P17', u'P18', u'P19', u'P20', u'P21', u'P22', u'P23', u'P24', u'P25', u'P26', u'P27', u'P28', u'P29', u'P30', u'P31', u'P32', u'P33', u'P34', u'P35', u'P36', u'P37', u'revenue', u'Age'], dtype='object')"
      ]
     },
     "execution_count": 9,
     "metadata": {},
     "output_type": "execute_result"
    }
   ],
   "source": [
    "hvtrain.data.columns"
   ]
  },
  {
   "cell_type": "code",
   "execution_count": 10,
   "metadata": {
    "collapsed": false
   },
   "outputs": [
    {
     "name": "stderr",
     "output_type": "stream",
     "text": [
      "Traceback (most recent call last):\n",
      "  File \"/home/scott/Documents/git/neukrill-venv-auto/local/lib/python2.7/site-packages/holoviews/ipython/display_hooks.py\", line 188, in wrapped\n",
      "    **kwargs)\n",
      "  File \"/home/scott/Documents/git/neukrill-venv-auto/local/lib/python2.7/site-packages/holoviews/ipython/display_hooks.py\", line 229, in map_display\n",
      "    return display_widgets(mapplot)\n",
      "  File \"/home/scott/Documents/git/neukrill-venv-auto/local/lib/python2.7/site-packages/holoviews/ipython/display_hooks.py\", line 130, in display_widgets\n",
      "    return ScrubberWidget(plot)()\n",
      "  File \"/home/scott/Documents/git/neukrill-venv-auto/local/lib/python2.7/site-packages/holoviews/ipython/widgets.py\", line 463, in __init__\n",
      "    for idx in range(len(self.plot)))\n",
      "  File \"/usr/lib/python2.7/collections.py\", line 52, in __init__\n",
      "    self.__update(*args, **kwds)\n",
      "  File \"/home/scott/Documents/git/neukrill-venv-auto/lib/python2.7/_abcoll.py\", line 566, in update\n",
      "    for key, value in other:\n",
      "  File \"/home/scott/Documents/git/neukrill-venv-auto/local/lib/python2.7/site-packages/holoviews/ipython/widgets.py\", line 463, in <genexpr>\n",
      "    for idx in range(len(self.plot)))\n",
      "  File \"/home/scott/Documents/git/neukrill-venv-auto/local/lib/python2.7/site-packages/holoviews/ipython/widgets.py\", line 283, in _plot_figure\n",
      "    fig = self.plot[idx]\n",
      "  File \"/home/scott/Documents/git/neukrill-venv-auto/local/lib/python2.7/site-packages/holoviews/plotting/plot.py\", line 264, in __getitem__\n",
      "    if not self.drawn: self.handles['fig'] = self()\n",
      "  File \"/home/scott/Documents/git/neukrill-venv-auto/local/lib/python2.7/site-packages/holoviews/plotting/tabular.py\", line 128, in __call__\n",
      "    return self._finalize_axis(self.keys[-1])\n",
      "  File \"/home/scott/Documents/git/neukrill-venv-auto/local/lib/python2.7/site-packages/holoviews/plotting/element.py\", line 313, in _finalize_axis\n",
      "    self.handles['title'] = axis.set_title(title)\n",
      "  File \"/home/scott/Documents/git/neukrill-venv-auto/local/lib/python2.7/site-packages/matplotlib/axes/_axes.py\", line 142, in set_title\n",
      "    title.set_text(label)\n",
      "  File \"/home/scott/Documents/git/neukrill-venv-auto/local/lib/python2.7/site-packages/matplotlib/text.py\", line 1028, in set_text\n",
      "    self._text = '%s' % (s,)\n",
      "UnicodeDecodeError: 'ascii' codec can't decode byte 0xc4 in position 38: ordinal not in range(128)\n"
     ]
    },
    {
     "data": {
      "text/plain": [
       "HoloMap.HoloMap   [Id,Open Date,City,City Group,Type,P2,P3,P4,P5,P6,P7,P8,P9,P10,P11,P12,P13,P14,P15,P16,P17,P18,P19,P20,P21,P22,P23,P24,P25,P26,P27,P28,P29,P30,P31,P32,P33,P34,P35,P36]\n",
       "   |_ Table.Table   (revenue)"
      ]
     },
     "execution_count": 10,
     "metadata": {},
     "output_type": "execute_result"
    }
   ],
   "source": [
    "tbl = hvtrain.table(['Age', 'P1', 'P37'], 'revenue')\n",
    "tbl"
   ]
  },
  {
   "cell_type": "code",
   "execution_count": 11,
   "metadata": {
    "collapsed": false
   },
   "outputs": [
    {
     "name": "stderr",
     "output_type": "stream",
     "text": [
      "Traceback (most recent call last):\n",
      "  File \"/home/scott/Documents/git/neukrill-venv-auto/local/lib/python2.7/site-packages/holoviews/ipython/display_hooks.py\", line 188, in wrapped\n",
      "    **kwargs)\n",
      "  File \"/home/scott/Documents/git/neukrill-venv-auto/local/lib/python2.7/site-packages/holoviews/ipython/display_hooks.py\", line 229, in map_display\n",
      "    return display_widgets(mapplot)\n",
      "  File \"/home/scott/Documents/git/neukrill-venv-auto/local/lib/python2.7/site-packages/holoviews/ipython/display_hooks.py\", line 130, in display_widgets\n",
      "    return ScrubberWidget(plot)()\n",
      "  File \"/home/scott/Documents/git/neukrill-venv-auto/local/lib/python2.7/site-packages/holoviews/ipython/widgets.py\", line 463, in __init__\n",
      "    for idx in range(len(self.plot)))\n",
      "  File \"/usr/lib/python2.7/collections.py\", line 52, in __init__\n",
      "    self.__update(*args, **kwds)\n",
      "  File \"/home/scott/Documents/git/neukrill-venv-auto/lib/python2.7/_abcoll.py\", line 566, in update\n",
      "    for key, value in other:\n",
      "  File \"/home/scott/Documents/git/neukrill-venv-auto/local/lib/python2.7/site-packages/holoviews/ipython/widgets.py\", line 463, in <genexpr>\n",
      "    for idx in range(len(self.plot)))\n",
      "  File \"/home/scott/Documents/git/neukrill-venv-auto/local/lib/python2.7/site-packages/holoviews/ipython/widgets.py\", line 283, in _plot_figure\n",
      "    fig = self.plot[idx]\n",
      "  File \"/home/scott/Documents/git/neukrill-venv-auto/local/lib/python2.7/site-packages/holoviews/plotting/plot.py\", line 264, in __getitem__\n",
      "    if not self.drawn: self.handles['fig'] = self()\n",
      "  File \"/home/scott/Documents/git/neukrill-venv-auto/local/lib/python2.7/site-packages/holoviews/plotting/chart.py\", line 505, in __call__\n",
      "    return self._finalize_axis(self.keys[-1], ranges=ranges)\n",
      "  File \"/home/scott/Documents/git/neukrill-venv-auto/local/lib/python2.7/site-packages/holoviews/plotting/element.py\", line 313, in _finalize_axis\n",
      "    self.handles['title'] = axis.set_title(title)\n",
      "  File \"/home/scott/Documents/git/neukrill-venv-auto/local/lib/python2.7/site-packages/matplotlib/axes/_axes.py\", line 142, in set_title\n",
      "    title.set_text(label)\n",
      "  File \"/home/scott/Documents/git/neukrill-venv-auto/local/lib/python2.7/site-packages/matplotlib/text.py\", line 1028, in set_text\n",
      "    self._text = '%s' % (s,)\n",
      "UnicodeDecodeError: 'ascii' codec can't decode byte 0xc4 in position 38: ordinal not in range(128)\n"
     ]
    },
    {
     "data": {
      "text/plain": [
       "HoloMap.HoloMap   [Id,Open Date,City,City Group,Type,P1,P2,P3,P4,P5,P6,P7,P8,P9,P10,P11,P12,P13,P14,P15,P16,P17,P18,P19,P20,P21,P22,P23,P24,P25,P26,P27,P28,P29,P30,P31,P32,P33,P34,P35,P36,P37]\n",
       "   |_ Scatter.Scatter   (revenue)"
      ]
     },
     "execution_count": 11,
     "metadata": {},
     "output_type": "execute_result"
    }
   ],
   "source": [
    "hvtrain.scatter('Age', 'revenue')"
   ]
  },
  {
   "cell_type": "code",
   "execution_count": null,
   "metadata": {
    "collapsed": true
   },
   "outputs": [],
   "source": []
  }
 ],
 "metadata": {
  "kernelspec": {
   "display_name": "Python 2",
   "language": "python",
   "name": "python2"
  },
  "language_info": {
   "codemirror_mode": {
    "name": "ipython",
    "version": 2
   },
   "file_extension": ".py",
   "mimetype": "text/x-python",
   "name": "python",
   "nbconvert_exporter": "python",
   "pygments_lexer": "ipython2",
   "version": "2.7.8"
  }
 },
 "nbformat": 4,
 "nbformat_minor": 0
}
