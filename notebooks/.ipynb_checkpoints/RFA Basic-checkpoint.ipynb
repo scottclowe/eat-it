{
 "cells": [
  {
   "cell_type": "code",
   "execution_count": 1,
   "metadata": {
    "collapsed": false
   },
   "outputs": [
    {
     "name": "stdout",
     "output_type": "stream",
     "text": [
      "/home/scott/Documents/git/bite-me\n"
     ]
    }
   ],
   "source": [
    "cd .."
   ]
  },
  {
   "cell_type": "code",
   "execution_count": 2,
   "metadata": {
    "collapsed": true
   },
   "outputs": [],
   "source": [
    "import sklearn\n",
    "import pandas as pd\n",
    "import numpy as np\n",
    "import datetime"
   ]
  },
  {
   "cell_type": "code",
   "execution_count": 3,
   "metadata": {
    "collapsed": false
   },
   "outputs": [
    {
     "name": "stderr",
     "output_type": "stream",
     "text": [
      "/usr/local/lib/python3.4/dist-packages/matplotlib/backends/backend_gtk3agg.py:18: UserWarning: The Gtk3Agg backend is known to not work on Python 3.x with pycairo. Try installing cairocffi.\n",
      "  \"The Gtk3Agg backend is known to not work on Python 3.x with pycairo. \"\n"
     ]
    }
   ],
   "source": [
    "from IPython.display import HTML\n",
    "import matplotlib as mpl\n",
    "import matplotlib.pyplot as plt\n",
    "%matplotlib inline\n",
    "import seaborn as sns"
   ]
  },
  {
   "cell_type": "code",
   "execution_count": 4,
   "metadata": {
    "collapsed": true
   },
   "outputs": [],
   "source": [
    "import sklearn.linear_model\n",
    "import sklearn.cross_validation"
   ]
  },
  {
   "cell_type": "code",
   "execution_count": 6,
   "metadata": {
    "collapsed": true
   },
   "outputs": [],
   "source": [
    "from eat_it import StratifiedPercentileKFold\n",
    "from eat_it import boxcoxscaler"
   ]
  },
  {
   "cell_type": "code",
   "execution_count": 7,
   "metadata": {
    "collapsed": true
   },
   "outputs": [],
   "source": [
    "import imp"
   ]
  },
  {
   "cell_type": "code",
   "execution_count": 8,
   "metadata": {
    "collapsed": true
   },
   "outputs": [],
   "source": [
    "train = pd.read_csv('data/train.csv', encoding=\"utf-8\")"
   ]
  },
  {
   "cell_type": "code",
   "execution_count": 9,
   "metadata": {
    "collapsed": true
   },
   "outputs": [],
   "source": [
    "# Add age in days\n",
    "end_dt = datetime.datetime.strptime('2015-1-1', \"%Y-%m-%d\")\n",
    "train['Age'] = [(end_dt - datetime.datetime.strptime(open_dt, \"%m/%d/%Y\")).days for open_dt in train['Open Date']]"
   ]
  },
  {
   "cell_type": "code",
   "execution_count": 10,
   "metadata": {
    "collapsed": true
   },
   "outputs": [],
   "source": [
    "# add size as boolean\n",
    "train['isBig'] = train['City Group']=='Big Cities'"
   ]
  },
  {
   "cell_type": "code",
   "execution_count": 11,
   "metadata": {
    "collapsed": true
   },
   "outputs": [],
   "source": [
    "train['isIL'] = train['Type']=='IL'"
   ]
  },
  {
   "cell_type": "code",
   "execution_count": 12,
   "metadata": {
    "collapsed": true
   },
   "outputs": [],
   "source": [
    "cols = ['P'+str(i) for i in range(1,38)]\n",
    "cols.append('Age')\n",
    "cols.append('isBig')\n",
    "cols.append('isIL')"
   ]
  },
  {
   "cell_type": "code",
   "execution_count": 13,
   "metadata": {
    "collapsed": false,
    "scrolled": true
   },
   "outputs": [
    {
     "data": {
      "text/plain": [
       "['P1',\n",
       " 'P2',\n",
       " 'P3',\n",
       " 'P4',\n",
       " 'P5',\n",
       " 'P6',\n",
       " 'P7',\n",
       " 'P8',\n",
       " 'P9',\n",
       " 'P10',\n",
       " 'P11',\n",
       " 'P12',\n",
       " 'P13',\n",
       " 'P14',\n",
       " 'P15',\n",
       " 'P16',\n",
       " 'P17',\n",
       " 'P18',\n",
       " 'P19',\n",
       " 'P20',\n",
       " 'P21',\n",
       " 'P22',\n",
       " 'P23',\n",
       " 'P24',\n",
       " 'P25',\n",
       " 'P26',\n",
       " 'P27',\n",
       " 'P28',\n",
       " 'P29',\n",
       " 'P30',\n",
       " 'P31',\n",
       " 'P32',\n",
       " 'P33',\n",
       " 'P34',\n",
       " 'P35',\n",
       " 'P36',\n",
       " 'P37',\n",
       " 'Age',\n",
       " 'isBig',\n",
       " 'isIL']"
      ]
     },
     "execution_count": 13,
     "metadata": {},
     "output_type": "execute_result"
    }
   ],
   "source": [
    "cols"
   ]
  },
  {
   "cell_type": "code",
   "execution_count": 14,
   "metadata": {
    "collapsed": true
   },
   "outputs": [],
   "source": [
    "X = train.as_matrix(cols)"
   ]
  },
  {
   "cell_type": "code",
   "execution_count": 15,
   "metadata": {
    "collapsed": true
   },
   "outputs": [],
   "source": [
    "X = X.astype(np.float)"
   ]
  },
  {
   "cell_type": "code",
   "execution_count": 17,
   "metadata": {
    "collapsed": true
   },
   "outputs": [],
   "source": [
    "y = train['revenue'].values"
   ]
  },
  {
   "cell_type": "code",
   "execution_count": 18,
   "metadata": {
    "collapsed": true
   },
   "outputs": [],
   "source": [
    "X_indices = train['Id'].values"
   ]
  },
  {
   "cell_type": "code",
   "execution_count": 19,
   "metadata": {
    "collapsed": true
   },
   "outputs": [],
   "source": [
    "def do_cv(cv, clf, y_transform=None, X=X, y=y):\n",
    "    if y_transform is None:\n",
    "        y_transform = lambda x: x\n",
    "    scores = []\n",
    "    all_pred = np.zeros((y.shape))\n",
    "    for train_index, test_index in cv:\n",
    "        X_train, X_test = X[train_index], X[test_index]\n",
    "        y_train, y_test = y[train_index], y[test_index]\n",
    "        # Fit model\n",
    "        clf.fit(X_train, y_train)\n",
    "        # Predict scores for test data\n",
    "        y_pred = y_transform(clf.predict(X_test))\n",
    "        # Save all the predictions to an array\n",
    "        all_pred[test_index] = y_pred\n",
    "        # Compute mean squared error on this test set\n",
    "        mse = sklearn.metrics.mean_squared_error(y_transform(y_test),y_pred)\n",
    "        scores.append(mse)\n",
    "    # Compute MSE across all samples\n",
    "    all_score = sklearn.metrics.mean_squared_error(y_transform(y), all_pred)**0.5\n",
    "    scores = np.asarray(scores)**0.5\n",
    "    return all_score, scores"
   ]
  },
  {
   "cell_type": "code",
   "execution_count": 21,
   "metadata": {
    "collapsed": false
   },
   "outputs": [],
   "source": [
    "def get_cv_results(clf, X=X, y=y, n_folds=10, n_samp=25):\n",
    "    all_scores = []\n",
    "    for seed in range(n_samp):\n",
    "        cv = StratifiedPercentileKFold.StratifiedPercentileKFold(y, n_folds=n_folds, shuffle=True, random_state=seed, shuffle_windows=True)\n",
    "        this_score, _ = do_cv(cv, clf, X=X, y=y)\n",
    "        all_scores.append(this_score)\n",
    "    return np.mean(all_scores), np.std(all_scores)/np.sqrt(n_folds)\n",
    "\n",
    "def get_mean_cv_score(*args, **kwargs):\n",
    "    out = get_cv_results(*args, **kwargs)\n",
    "    return out[0]"
   ]
  },
  {
   "cell_type": "code",
   "execution_count": 44,
   "metadata": {
    "collapsed": true
   },
   "outputs": [],
   "source": [
    "from sklearn.base import clone"
   ]
  },
  {
   "cell_type": "code",
   "execution_count": 58,
   "metadata": {
    "collapsed": false
   },
   "outputs": [],
   "source": [
    "### Recursive feature addition\n",
    "\n",
    "def rfa(clf, X, y, n_folds=10, n_samp=25, col_names=None):\n",
    "\n",
    "    n_features = X.shape[1]\n",
    "    n_features_to_select = n_features\n",
    "    step = 1\n",
    "    \n",
    "    if col_names is None:\n",
    "        col_names = range(n_features)\n",
    "    col_names = np.asarray(col_names)\n",
    "    \n",
    "    support_ = np.zeros(n_features, dtype=np.bool)\n",
    "    ranking_ = n_features * np.ones(n_features, dtype=np.int)\n",
    "    last_score = None\n",
    "\n",
    "    # Feature addition\n",
    "    while np.sum(support_) < n_features_to_select:\n",
    "        # Previously added features\n",
    "        features_already = np.arange(n_features)[support_]\n",
    "        # Features to test\n",
    "        features_to_test = np.arange(n_features)[np.logical_not(support_)]\n",
    "\n",
    "        # Rank the remaining features\n",
    "        estimator = clone(clf)\n",
    "\n",
    "        #####################################\n",
    "        # FIT THE CLASSIFIER ON A NESTED FOLD\n",
    "        #####################################\n",
    "\n",
    "        scores = np.zeros(len(features_to_test))\n",
    "        for feature_index, test_feature in enumerate(features_to_test):\n",
    "            features = np.union1d(features_already, [test_feature])\n",
    "            scores[feature_index] = get_mean_cv_score(estimator, X[:, features], y, n_folds=n_folds, n_samp=n_samp)\n",
    "            print(\"\\tScored %.2f with %s\" % (scores[feature_index], ', '.join(col_names[features])))\n",
    "\n",
    "        # Sort the scores in ascending order\n",
    "        score_order_index = np.argsort(scores)\n",
    "        ordered_scores   = scores[score_order_index]\n",
    "        ordered_features = features_to_test[score_order_index]\n",
    "\n",
    "        # Break if no features can improve score\n",
    "        if last_score is not None and last_score < ordered_scores[0]:\n",
    "            print('No more improvement possible from {} to {} features'.format(\n",
    "                    len(features_already),len(features_already)+1))\n",
    "            break\n",
    "\n",
    "        # Only add `step` many features if it doesn't take us past the target\n",
    "        n_add = min(step, n_features_to_select - np.sum(support_))\n",
    "\n",
    "        # Only add features which don't make performance go down\n",
    "        if last_score is not None:\n",
    "            n_add = min(n_add, len(np.nonzero(ordered_scores < last_score)))\n",
    "\n",
    "        # Select best.\n",
    "        # We will MINIMISE scoring function!!!\n",
    "        features_to_add = ordered_features[0:n_add]\n",
    "        for i in range(n_add):\n",
    "            print('Adding feature {} (scored {})'.format(col_names[ordered_features[i]], ordered_scores[i]))\n",
    "\n",
    "        # Add the features\n",
    "        support_[features_to_add] = True\n",
    "        ranking_[features_to_add] = np.sum(support_) + 1 + np.arange(features_to_add)\n",
    "\n",
    "        # Update score monitor\n",
    "        last_score = ordered_scores[0]\n",
    "    \n",
    "    print(\"Best score is with features:\\n\\t{}\".format(', '.join(col_names[support_])))\n",
    "    \n",
    "    return support_, ranking_"
   ]
  },
  {
   "cell_type": "code",
   "execution_count": 57,
   "metadata": {
    "collapsed": false,
    "scrolled": true
   },
   "outputs": [
    {
     "name": "stdout",
     "output_type": "stream",
     "text": [
      "\tScored 2576920.82 with P1\n",
      "\tScored 2532828.62 with P2\n",
      "\tScored 2580289.25 with P3\n",
      "\tScored 2578094.47 with P4\n",
      "\tScored 2575959.25 with P5\n",
      "\tScored 2561503.10 with P6\n",
      "\tScored 2575867.06 with P7\n",
      "\tScored 2576849.75 with P8\n",
      "\tScored 2578674.69 with P9\n",
      "\tScored 2578549.73 with P10\n",
      "\tScored 2572805.21 with P11\n",
      "\tScored 2580951.29 with P12\n",
      "\tScored 2575454.84 with P13\n",
      "\tScored 2584633.04 with P14\n",
      "\tScored 2586147.57 with P15\n",
      "\tScored 2578817.19 with P16\n",
      "\tScored 2600917.89 with P17\n",
      "\tScored 2578976.84 with P18\n",
      "\tScored 2578747.33 with P19\n",
      "\tScored 2578007.73 with P20\n",
      "\tScored 2582338.00 with P21\n",
      "\tScored 2590895.79 with P22\n",
      "\tScored 2574120.03 with P23\n",
      "\tScored 2585463.56 with P24\n",
      "\tScored 2585614.41 with P25\n",
      "\tScored 2583715.51 with P26\n",
      "\tScored 2578944.67 with P27\n",
      "\tScored 2554509.59 with P28\n",
      "\tScored 2579073.51 with P29\n",
      "\tScored 2573358.53 with P30\n",
      "\tScored 2577914.49 with P31\n",
      "\tScored 2570878.71 with P32\n",
      "\tScored 2580696.14 with P33\n",
      "\tScored 2571085.48 with P34\n",
      "\tScored 2578209.98 with P35\n",
      "\tScored 2576505.42 with P36\n",
      "\tScored 2580994.03 with P37\n",
      "\tScored 2469385.17 with Age\n",
      "\tScored 2509606.57 with isBig\n",
      "\tScored 2575909.46 with isIL\n",
      "Adding feature Age (scored 2469385.1716084806)\n",
      "\tScored 2482863.35 with P1, Age\n",
      "\tScored 2454111.34 with P2, Age\n",
      "\tScored 2480685.50 with P3, Age\n",
      "\tScored 2479705.89 with P4, Age\n",
      "\tScored 2476290.63 with P5, Age\n",
      "\tScored 2473684.01 with P6, Age\n",
      "\tScored 2475534.19 with P7, Age\n",
      "\tScored 2477790.17 with P8, Age\n",
      "\tScored 2480847.02 with P9, Age\n",
      "\tScored 2479777.97 with P10, Age\n",
      "\tScored 2479686.32 with P11, Age\n",
      "\tScored 2483911.68 with P12, Age\n",
      "\tScored 2479021.68 with P13, Age\n",
      "\tScored 2488880.85 with P14, Age\n",
      "\tScored 2485592.22 with P15, Age\n",
      "\tScored 2476339.85 with P16, Age\n",
      "\tScored 2521648.10 with P17, Age\n",
      "\tScored 2475793.02 with P18, Age\n",
      "\tScored 2479809.77 with P19, Age\n",
      "\tScored 2476436.37 with P20, Age\n",
      "\tScored 2484494.99 with P21, Age\n",
      "\tScored 2500885.60 with P22, Age\n",
      "\tScored 2473465.36 with P23, Age\n",
      "\tScored 2487492.08 with P24, Age\n",
      "\tScored 2491360.45 with P25, Age\n",
      "\tScored 2481645.70 with P26, Age\n",
      "\tScored 2481245.01 with P27, Age\n",
      "\tScored 2471025.52 with P28, Age\n",
      "\tScored 2477396.73 with P29, Age\n",
      "\tScored 2469845.50 with P30, Age\n",
      "\tScored 2474546.21 with P31, Age\n",
      "\tScored 2467765.42 with P32, Age\n",
      "\tScored 2476012.81 with P33, Age\n",
      "\tScored 2467135.36 with P34, Age\n",
      "\tScored 2477591.88 with P35, Age\n",
      "\tScored 2473557.29 with P36, Age\n",
      "\tScored 2475361.07 with P37, Age\n",
      "\tScored 2432273.67 with Age, isBig\n",
      "\tScored 2465819.07 with Age, isIL\n",
      "Adding feature isBig (scored 2432273.6682987367)\n",
      "\tScored 2449054.05 with P1, Age, isBig\n",
      "\tScored 2437913.99 with P2, Age, isBig\n",
      "\tScored 2442945.16 with P3, Age, isBig\n",
      "\tScored 2444836.15 with P4, Age, isBig\n",
      "\tScored 2439498.11 with P5, Age, isBig\n",
      "\tScored 2444573.38 with P6, Age, isBig\n",
      "\tScored 2442461.80 with P7, Age, isBig\n",
      "\tScored 2437420.40 with P8, Age, isBig\n",
      "\tScored 2443632.74 with P9, Age, isBig\n",
      "\tScored 2442803.09 with P10, Age, isBig\n",
      "\tScored 2444767.99 with P11, Age, isBig\n",
      "\tScored 2447374.57 with P12, Age, isBig\n",
      "\tScored 2442778.83 with P13, Age, isBig\n",
      "\tScored 2447339.70 with P14, Age, isBig\n",
      "\tScored 2445595.81 with P15, Age, isBig\n",
      "\tScored 2434499.41 with P16, Age, isBig\n",
      "\tScored 2479490.39 with P17, Age, isBig\n",
      "\tScored 2434056.74 with P18, Age, isBig\n",
      "\tScored 2443428.83 with P19, Age, isBig\n",
      "\tScored 2438040.43 with P20, Age, isBig\n",
      "\tScored 2447251.94 with P21, Age, isBig\n",
      "\tScored 2464851.29 with P22, Age, isBig\n",
      "\tScored 2436289.74 with P23, Age, isBig\n",
      "\tScored 2444496.28 with P24, Age, isBig\n",
      "\tScored 2448804.49 with P25, Age, isBig\n",
      "\tScored 2434869.71 with P26, Age, isBig\n",
      "\tScored 2439171.54 with P27, Age, isBig\n",
      "\tScored 2445889.71 with P28, Age, isBig\n",
      "\tScored 2441370.18 with P29, Age, isBig\n",
      "\tScored 2426938.17 with P30, Age, isBig\n",
      "\tScored 2427486.50 with P31, Age, isBig\n",
      "\tScored 2420159.11 with P32, Age, isBig\n",
      "\tScored 2435438.60 with P33, Age, isBig\n",
      "\tScored 2425712.89 with P34, Age, isBig\n",
      "\tScored 2435935.02 with P35, Age, isBig\n",
      "\tScored 2430430.49 with P36, Age, isBig\n",
      "\tScored 2435808.62 with P37, Age, isBig\n",
      "\tScored 2420783.34 with Age, isBig, isIL\n",
      "Adding feature P32 (scored 2420159.1120895795)\n",
      "\tScored 2426531.74 with P1, P32, Age, isBig\n",
      "\tScored 2411375.57 with P2, P32, Age, isBig\n",
      "\tScored 2430929.16 with P3, P32, Age, isBig\n",
      "\tScored 2424915.41 with P4, P32, Age, isBig\n",
      "\tScored 2425974.60 with P5, P32, Age, isBig\n",
      "\tScored 2423049.39 with P6, P32, Age, isBig\n",
      "\tScored 2415215.53 with P7, P32, Age, isBig\n",
      "\tScored 2432074.54 with P8, P32, Age, isBig\n",
      "\tScored 2426773.43 with P9, P32, Age, isBig\n",
      "\tScored 2428505.87 with P10, P32, Age, isBig\n",
      "\tScored 2424073.86 with P11, P32, Age, isBig\n",
      "\tScored 2431810.27 with P12, P32, Age, isBig\n",
      "\tScored 2431627.12 with P13, P32, Age, isBig\n",
      "\tScored 2438162.80 with P14, P32, Age, isBig\n",
      "\tScored 2436356.92 with P15, P32, Age, isBig\n",
      "\tScored 2428451.57 with P16, P32, Age, isBig\n",
      "\tScored 2463307.18 with P17, P32, Age, isBig\n",
      "\tScored 2425789.61 with P18, P32, Age, isBig\n",
      "\tScored 2420941.37 with P19, P32, Age, isBig\n",
      "\tScored 2423354.33 with P20, P32, Age, isBig\n",
      "\tScored 2430962.43 with P21, P32, Age, isBig\n",
      "\tScored 2451632.73 with P22, P32, Age, isBig\n",
      "\tScored 2412636.08 with P23, P32, Age, isBig\n",
      "\tScored 2433935.15 with P24, P32, Age, isBig\n",
      "\tScored 2434806.52 with P25, P32, Age, isBig\n",
      "\tScored 2437294.63 with P26, P32, Age, isBig\n",
      "\tScored 2436680.18 with P27, P32, Age, isBig\n",
      "\tScored 2411728.97 with P28, P32, Age, isBig\n",
      "\tScored 2436363.91 with P29, P32, Age, isBig\n",
      "\tScored 2433084.96 with P30, P32, Age, isBig\n",
      "\tScored 2431190.22 with P31, P32, Age, isBig\n",
      "\tScored 2434850.85 with P32, P33, Age, isBig\n",
      "\tScored 2433404.20 with P32, P34, Age, isBig\n",
      "\tScored 2429377.84 with P32, P35, Age, isBig\n",
      "\tScored 2431922.36 with P32, P36, Age, isBig\n",
      "\tScored 2430637.98 with P32, P37, Age, isBig\n",
      "\tScored 2425843.06 with P32, Age, isBig, isIL\n",
      "Adding feature P2 (scored 2411375.5721591865)\n",
      "\tScored 2421591.48 with P1, P2, P32, Age, isBig\n",
      "\tScored 2421975.00 with P2, P3, P32, Age, isBig\n",
      "\tScored 2424575.11 with P2, P4, P32, Age, isBig\n",
      "\tScored 2419888.82 with P2, P5, P32, Age, isBig\n",
      "\tScored 2422623.50 with P2, P6, P32, Age, isBig\n",
      "\tScored 2418705.24 with P2, P7, P32, Age, isBig\n",
      "\tScored 2413851.20 with P2, P8, P32, Age, isBig\n",
      "\tScored 2422071.02 with P2, P9, P32, Age, isBig\n",
      "\tScored 2419639.96 with P2, P10, P32, Age, isBig\n",
      "\tScored 2423648.16 with P2, P11, P32, Age, isBig\n",
      "\tScored 2426722.02 with P2, P12, P32, Age, isBig\n",
      "\tScored 2420896.94 with P2, P13, P32, Age, isBig\n",
      "\tScored 2431420.80 with P2, P14, P32, Age, isBig\n",
      "\tScored 2430520.55 with P2, P15, P32, Age, isBig\n",
      "\tScored 2423749.22 with P2, P16, P32, Age, isBig\n",
      "\tScored 2454985.19 with P2, P17, P32, Age, isBig\n",
      "\tScored 2419197.11 with P2, P18, P32, Age, isBig\n",
      "\tScored 2419715.86 with P2, P19, P32, Age, isBig\n",
      "\tScored 2419310.39 with P2, P20, P32, Age, isBig\n",
      "\tScored 2437535.25 with P2, P21, P32, Age, isBig\n",
      "\tScored 2442444.74 with P2, P22, P32, Age, isBig\n",
      "\tScored 2416172.49 with P2, P23, P32, Age, isBig\n",
      "\tScored 2425752.35 with P2, P24, P32, Age, isBig\n",
      "\tScored 2427393.29 with P2, P25, P32, Age, isBig\n",
      "\tScored 2429133.30 with P2, P26, P32, Age, isBig\n",
      "\tScored 2429179.66 with P2, P27, P32, Age, isBig\n",
      "\tScored 2422543.07 with P2, P28, P32, Age, isBig\n",
      "\tScored 2421373.83 with P2, P29, P32, Age, isBig\n",
      "\tScored 2427991.40 with P2, P30, P32, Age, isBig\n",
      "\tScored 2424456.91 with P2, P31, P32, Age, isBig\n",
      "\tScored 2426717.83 with P2, P32, P33, Age, isBig\n",
      "\tScored 2425981.64 with P2, P32, P34, Age, isBig\n",
      "\tScored 2422542.01 with P2, P32, P35, Age, isBig\n",
      "\tScored 2425861.89 with P2, P32, P36, Age, isBig\n",
      "\tScored 2419498.28 with P2, P32, P37, Age, isBig\n",
      "\tScored 2419537.76 with P2, P32, Age, isBig, isIL\n",
      "No more improvement possible from 4 to 5 features\n",
      "Best score is with features\n",
      "P2, P32, Age, isBig\n"
     ]
    }
   ],
   "source": [
    "clf = sklearn.linear_model.LinearRegression()\n",
    "support, ranking = rfa(clf, X, y, col_names=cols)"
   ]
  },
  {
   "cell_type": "code",
   "execution_count": 59,
   "metadata": {
    "collapsed": false,
    "scrolled": true
   },
   "outputs": [
    {
     "name": "stdout",
     "output_type": "stream",
     "text": [
      "\tScored 2618310.77 with P1\n",
      "\tScored 2618309.70 with P2\n",
      "\tScored 2618310.80 with P3\n",
      "\tScored 2618310.56 with P4\n",
      "\tScored 2618310.27 with P5\n",
      "\tScored 2618308.95 with P6\n",
      "\tScored 2618310.15 with P7\n",
      "\tScored 2618310.63 with P8\n",
      "\tScored 2618310.44 with P9\n",
      "\tScored 2618309.97 with P10\n",
      "\tScored 2618311.02 with P11\n",
      "\tScored 2618310.33 with P12\n",
      "\tScored 2618310.01 with P13\n",
      "\tScored 2618310.06 with P14\n",
      "\tScored 2618310.11 with P15\n",
      "\tScored 2618309.87 with P16\n",
      "\tScored 2618309.66 with P17\n",
      "\tScored 2618309.86 with P18\n",
      "\tScored 2618311.29 with P19\n",
      "\tScored 2618310.19 with P20\n",
      "\tScored 2618311.02 with P21\n",
      "\tScored 2618311.27 with P22\n",
      "\tScored 2618311.44 with P23\n",
      "\tScored 2618310.10 with P24\n",
      "\tScored 2618310.05 with P25\n",
      "\tScored 2618310.16 with P26\n",
      "\tScored 2618310.28 with P27\n",
      "\tScored 2618310.55 with P28\n",
      "\tScored 2618310.76 with P29\n",
      "\tScored 2618309.91 with P30\n",
      "\tScored 2618309.49 with P31\n",
      "\tScored 2618309.96 with P32\n",
      "\tScored 2618310.10 with P33\n",
      "\tScored 2618310.05 with P34\n",
      "\tScored 2618309.88 with P35\n",
      "\tScored 2618309.78 with P36\n",
      "\tScored 2618310.10 with P37\n",
      "\tScored 2618310.17 with Age\n",
      "\tScored 2618307.29 with isBig\n",
      "\tScored 2618310.35 with isIL\n",
      "Adding feature isBig (scored 2618307.2877858514)\n",
      "\tScored 2618309.81 with P1, isBig\n",
      "\tScored 2618308.95 with P2, isBig\n",
      "\tScored 2618309.35 with P3, isBig\n",
      "\tScored 2618309.10 with P4, isBig\n",
      "\tScored 2618308.88 with P5, isBig\n",
      "\tScored 2618308.35 with P6, isBig\n",
      "\tScored 2618308.82 with P7, isBig\n",
      "\tScored 2618309.50 with P8, isBig\n",
      "\tScored 2618309.16 with P9, isBig\n",
      "\tScored 2618308.94 with P10, isBig\n",
      "\tScored 2618309.99 with P11, isBig\n",
      "\tScored 2618309.22 with P12, isBig\n",
      "\tScored 2618308.87 with P13, isBig\n",
      "\tScored 2618308.65 with P14, isBig\n",
      "\tScored 2618308.67 with P15, isBig\n",
      "\tScored 2618308.26 with P16, isBig\n",
      "\tScored 2618308.45 with P17, isBig\n",
      "\tScored 2618308.30 with P18, isBig\n",
      "\tScored 2618310.57 with P19, isBig\n",
      "\tScored 2618309.69 with P20, isBig\n",
      "\tScored 2618310.60 with P21, isBig\n",
      "\tScored 2618310.58 with P22, isBig\n",
      "\tScored 2618310.83 with P23, isBig\n",
      "\tScored 2618308.52 with P24, isBig\n",
      "\tScored 2618308.42 with P25, isBig\n",
      "\tScored 2618308.57 with P26, isBig\n",
      "\tScored 2618308.68 with P27, isBig\n",
      "\tScored 2618310.03 with P28, isBig\n",
      "\tScored 2618309.83 with P29, isBig\n",
      "\tScored 2618308.41 with P30, isBig\n",
      "\tScored 2618307.98 with P31, isBig\n",
      "\tScored 2618308.38 with P32, isBig\n",
      "\tScored 2618308.54 with P33, isBig\n",
      "\tScored 2618308.40 with P34, isBig\n",
      "\tScored 2618308.36 with P35, isBig\n",
      "\tScored 2618308.15 with P36, isBig\n",
      "\tScored 2618308.61 with P37, isBig\n",
      "\tScored 2618310.18 with Age, isBig\n",
      "\tScored 2618308.63 with isBig, isIL\n",
      "No more improvement possible from 1 to 2 features\n",
      "Best score is with features:\n",
      "\tisBig\n"
     ]
    }
   ],
   "source": [
    "import sklearn.svm\n",
    "clf = sklearn.svm.SVR()\n",
    "support, ranking = rfa(clf, X, y, col_names=cols)"
   ]
  },
  {
   "cell_type": "code",
   "execution_count": 63,
   "metadata": {
    "collapsed": false,
    "scrolled": true
   },
   "outputs": [
    {
     "name": "stdout",
     "output_type": "stream",
     "text": [
      "\tScored 2612496.55 with P1\n",
      "\tScored 2494475.23 with P2\n",
      "\tScored 2634520.03 with P3\n",
      "\tScored 2614852.42 with P4\n",
      "\tScored 2554550.96 with P5\n",
      "\tScored 2593298.22 with P6\n",
      "\tScored 2563504.97 with P7\n",
      "\tScored 2692234.54 with P8\n",
      "\tScored 2602572.30 with P9\n",
      "\tScored 2564310.39 with P10\n",
      "\tScored 2629634.54 with P11\n",
      "\tScored 2661862.37 with P12\n",
      "\tScored 2564236.94 with P13\n",
      "\tScored 2617744.18 with P14\n",
      "\tScored 2630981.69 with P15\n",
      "\tScored 2598948.03 with P16\n",
      "\tScored 2512237.10 with P17\n"
     ]
    },
    {
     "ename": "KeyboardInterrupt",
     "evalue": "",
     "output_type": "error",
     "traceback": [
      "\u001b[1;31m---------------------------------------------------------------------------\u001b[0m",
      "\u001b[1;31mKeyboardInterrupt\u001b[0m                         Traceback (most recent call last)",
      "\u001b[1;32m<ipython-input-63-37c05ab39802>\u001b[0m in \u001b[0;36m<module>\u001b[1;34m()\u001b[0m\n\u001b[0;32m      1\u001b[0m \u001b[1;32mimport\u001b[0m \u001b[0msklearn\u001b[0m\u001b[1;33m.\u001b[0m\u001b[0mensemble\u001b[0m\u001b[1;33m\u001b[0m\u001b[0m\n\u001b[0;32m      2\u001b[0m \u001b[0mclf\u001b[0m \u001b[1;33m=\u001b[0m \u001b[0msklearn\u001b[0m\u001b[1;33m.\u001b[0m\u001b[0mensemble\u001b[0m\u001b[1;33m.\u001b[0m\u001b[0mRandomForestRegressor\u001b[0m\u001b[1;33m(\u001b[0m\u001b[1;36m250\u001b[0m\u001b[1;33m,\u001b[0m \u001b[0mrandom_state\u001b[0m\u001b[1;33m=\u001b[0m\u001b[1;36m42\u001b[0m\u001b[1;33m)\u001b[0m\u001b[1;33m\u001b[0m\u001b[0m\n\u001b[1;32m----> 3\u001b[1;33m \u001b[0msupport\u001b[0m\u001b[1;33m,\u001b[0m \u001b[0mranking\u001b[0m \u001b[1;33m=\u001b[0m \u001b[0mrfa\u001b[0m\u001b[1;33m(\u001b[0m\u001b[0mclf\u001b[0m\u001b[1;33m,\u001b[0m \u001b[0mX\u001b[0m\u001b[1;33m,\u001b[0m \u001b[0my\u001b[0m\u001b[1;33m,\u001b[0m \u001b[0mcol_names\u001b[0m\u001b[1;33m=\u001b[0m\u001b[0mcols\u001b[0m\u001b[1;33m)\u001b[0m\u001b[1;33m\u001b[0m\u001b[0m\n\u001b[0m",
      "\u001b[1;32m<ipython-input-58-1ed83863a865>\u001b[0m in \u001b[0;36mrfa\u001b[1;34m(clf, X, y, n_folds, n_samp, col_names)\u001b[0m\n\u001b[0;32m     32\u001b[0m         \u001b[1;32mfor\u001b[0m \u001b[0mfeature_index\u001b[0m\u001b[1;33m,\u001b[0m \u001b[0mtest_feature\u001b[0m \u001b[1;32min\u001b[0m \u001b[0menumerate\u001b[0m\u001b[1;33m(\u001b[0m\u001b[0mfeatures_to_test\u001b[0m\u001b[1;33m)\u001b[0m\u001b[1;33m:\u001b[0m\u001b[1;33m\u001b[0m\u001b[0m\n\u001b[0;32m     33\u001b[0m             \u001b[0mfeatures\u001b[0m \u001b[1;33m=\u001b[0m \u001b[0mnp\u001b[0m\u001b[1;33m.\u001b[0m\u001b[0munion1d\u001b[0m\u001b[1;33m(\u001b[0m\u001b[0mfeatures_already\u001b[0m\u001b[1;33m,\u001b[0m \u001b[1;33m[\u001b[0m\u001b[0mtest_feature\u001b[0m\u001b[1;33m]\u001b[0m\u001b[1;33m)\u001b[0m\u001b[1;33m\u001b[0m\u001b[0m\n\u001b[1;32m---> 34\u001b[1;33m             \u001b[0mscores\u001b[0m\u001b[1;33m[\u001b[0m\u001b[0mfeature_index\u001b[0m\u001b[1;33m]\u001b[0m \u001b[1;33m=\u001b[0m \u001b[0mget_mean_cv_score\u001b[0m\u001b[1;33m(\u001b[0m\u001b[0mestimator\u001b[0m\u001b[1;33m,\u001b[0m \u001b[0mX\u001b[0m\u001b[1;33m[\u001b[0m\u001b[1;33m:\u001b[0m\u001b[1;33m,\u001b[0m \u001b[0mfeatures\u001b[0m\u001b[1;33m]\u001b[0m\u001b[1;33m,\u001b[0m \u001b[0my\u001b[0m\u001b[1;33m,\u001b[0m \u001b[0mn_folds\u001b[0m\u001b[1;33m=\u001b[0m\u001b[0mn_folds\u001b[0m\u001b[1;33m,\u001b[0m \u001b[0mn_samp\u001b[0m\u001b[1;33m=\u001b[0m\u001b[0mn_samp\u001b[0m\u001b[1;33m)\u001b[0m\u001b[1;33m\u001b[0m\u001b[0m\n\u001b[0m\u001b[0;32m     35\u001b[0m             \u001b[0mprint\u001b[0m\u001b[1;33m(\u001b[0m\u001b[1;34m\"\\tScored %.2f with %s\"\u001b[0m \u001b[1;33m%\u001b[0m \u001b[1;33m(\u001b[0m\u001b[0mscores\u001b[0m\u001b[1;33m[\u001b[0m\u001b[0mfeature_index\u001b[0m\u001b[1;33m]\u001b[0m\u001b[1;33m,\u001b[0m \u001b[1;34m', '\u001b[0m\u001b[1;33m.\u001b[0m\u001b[0mjoin\u001b[0m\u001b[1;33m(\u001b[0m\u001b[0mcol_names\u001b[0m\u001b[1;33m[\u001b[0m\u001b[0mfeatures\u001b[0m\u001b[1;33m]\u001b[0m\u001b[1;33m)\u001b[0m\u001b[1;33m)\u001b[0m\u001b[1;33m)\u001b[0m\u001b[1;33m\u001b[0m\u001b[0m\n\u001b[0;32m     36\u001b[0m \u001b[1;33m\u001b[0m\u001b[0m\n",
      "\u001b[1;32m<ipython-input-21-5a3f2b58c1d8>\u001b[0m in \u001b[0;36mget_mean_cv_score\u001b[1;34m(*args, **kwargs)\u001b[0m\n\u001b[0;32m      8\u001b[0m \u001b[1;33m\u001b[0m\u001b[0m\n\u001b[0;32m      9\u001b[0m \u001b[1;32mdef\u001b[0m \u001b[0mget_mean_cv_score\u001b[0m\u001b[1;33m(\u001b[0m\u001b[1;33m*\u001b[0m\u001b[0margs\u001b[0m\u001b[1;33m,\u001b[0m \u001b[1;33m**\u001b[0m\u001b[0mkwargs\u001b[0m\u001b[1;33m)\u001b[0m\u001b[1;33m:\u001b[0m\u001b[1;33m\u001b[0m\u001b[0m\n\u001b[1;32m---> 10\u001b[1;33m     \u001b[0mout\u001b[0m \u001b[1;33m=\u001b[0m \u001b[0mget_cv_results\u001b[0m\u001b[1;33m(\u001b[0m\u001b[1;33m*\u001b[0m\u001b[0margs\u001b[0m\u001b[1;33m,\u001b[0m \u001b[1;33m**\u001b[0m\u001b[0mkwargs\u001b[0m\u001b[1;33m)\u001b[0m\u001b[1;33m\u001b[0m\u001b[0m\n\u001b[0m\u001b[0;32m     11\u001b[0m     \u001b[1;32mreturn\u001b[0m \u001b[0mout\u001b[0m\u001b[1;33m[\u001b[0m\u001b[1;36m0\u001b[0m\u001b[1;33m]\u001b[0m\u001b[1;33m\u001b[0m\u001b[0m\n",
      "\u001b[1;32m<ipython-input-21-5a3f2b58c1d8>\u001b[0m in \u001b[0;36mget_cv_results\u001b[1;34m(clf, X, y, n_folds, n_samp)\u001b[0m\n\u001b[0;32m      3\u001b[0m     \u001b[1;32mfor\u001b[0m \u001b[0mseed\u001b[0m \u001b[1;32min\u001b[0m \u001b[0mrange\u001b[0m\u001b[1;33m(\u001b[0m\u001b[0mn_samp\u001b[0m\u001b[1;33m)\u001b[0m\u001b[1;33m:\u001b[0m\u001b[1;33m\u001b[0m\u001b[0m\n\u001b[0;32m      4\u001b[0m         \u001b[0mcv\u001b[0m \u001b[1;33m=\u001b[0m \u001b[0mStratifiedPercentileKFold\u001b[0m\u001b[1;33m.\u001b[0m\u001b[0mStratifiedPercentileKFold\u001b[0m\u001b[1;33m(\u001b[0m\u001b[0my\u001b[0m\u001b[1;33m,\u001b[0m \u001b[0mn_folds\u001b[0m\u001b[1;33m=\u001b[0m\u001b[0mn_folds\u001b[0m\u001b[1;33m,\u001b[0m \u001b[0mshuffle\u001b[0m\u001b[1;33m=\u001b[0m\u001b[1;32mTrue\u001b[0m\u001b[1;33m,\u001b[0m \u001b[0mrandom_state\u001b[0m\u001b[1;33m=\u001b[0m\u001b[0mseed\u001b[0m\u001b[1;33m,\u001b[0m \u001b[0mshuffle_windows\u001b[0m\u001b[1;33m=\u001b[0m\u001b[1;32mTrue\u001b[0m\u001b[1;33m)\u001b[0m\u001b[1;33m\u001b[0m\u001b[0m\n\u001b[1;32m----> 5\u001b[1;33m         \u001b[0mthis_score\u001b[0m\u001b[1;33m,\u001b[0m \u001b[0m_\u001b[0m \u001b[1;33m=\u001b[0m \u001b[0mdo_cv\u001b[0m\u001b[1;33m(\u001b[0m\u001b[0mcv\u001b[0m\u001b[1;33m,\u001b[0m \u001b[0mclf\u001b[0m\u001b[1;33m,\u001b[0m \u001b[0mX\u001b[0m\u001b[1;33m=\u001b[0m\u001b[0mX\u001b[0m\u001b[1;33m,\u001b[0m \u001b[0my\u001b[0m\u001b[1;33m=\u001b[0m\u001b[0my\u001b[0m\u001b[1;33m)\u001b[0m\u001b[1;33m\u001b[0m\u001b[0m\n\u001b[0m\u001b[0;32m      6\u001b[0m         \u001b[0mall_scores\u001b[0m\u001b[1;33m.\u001b[0m\u001b[0mappend\u001b[0m\u001b[1;33m(\u001b[0m\u001b[0mthis_score\u001b[0m\u001b[1;33m)\u001b[0m\u001b[1;33m\u001b[0m\u001b[0m\n\u001b[0;32m      7\u001b[0m     \u001b[1;32mreturn\u001b[0m \u001b[0mnp\u001b[0m\u001b[1;33m.\u001b[0m\u001b[0mmean\u001b[0m\u001b[1;33m(\u001b[0m\u001b[0mall_scores\u001b[0m\u001b[1;33m)\u001b[0m\u001b[1;33m,\u001b[0m \u001b[0mnp\u001b[0m\u001b[1;33m.\u001b[0m\u001b[0mstd\u001b[0m\u001b[1;33m(\u001b[0m\u001b[0mall_scores\u001b[0m\u001b[1;33m)\u001b[0m\u001b[1;33m/\u001b[0m\u001b[0mnp\u001b[0m\u001b[1;33m.\u001b[0m\u001b[0msqrt\u001b[0m\u001b[1;33m(\u001b[0m\u001b[0mn_folds\u001b[0m\u001b[1;33m)\u001b[0m\u001b[1;33m\u001b[0m\u001b[0m\n",
      "\u001b[1;32m<ipython-input-19-13f7ee2efe81>\u001b[0m in \u001b[0;36mdo_cv\u001b[1;34m(cv, clf, y_transform, X, y)\u001b[0m\n\u001b[0;32m      8\u001b[0m         \u001b[0my_train\u001b[0m\u001b[1;33m,\u001b[0m \u001b[0my_test\u001b[0m \u001b[1;33m=\u001b[0m \u001b[0my\u001b[0m\u001b[1;33m[\u001b[0m\u001b[0mtrain_index\u001b[0m\u001b[1;33m]\u001b[0m\u001b[1;33m,\u001b[0m \u001b[0my\u001b[0m\u001b[1;33m[\u001b[0m\u001b[0mtest_index\u001b[0m\u001b[1;33m]\u001b[0m\u001b[1;33m\u001b[0m\u001b[0m\n\u001b[0;32m      9\u001b[0m         \u001b[1;31m# Fit model\u001b[0m\u001b[1;33m\u001b[0m\u001b[1;33m\u001b[0m\u001b[0m\n\u001b[1;32m---> 10\u001b[1;33m         \u001b[0mclf\u001b[0m\u001b[1;33m.\u001b[0m\u001b[0mfit\u001b[0m\u001b[1;33m(\u001b[0m\u001b[0mX_train\u001b[0m\u001b[1;33m,\u001b[0m \u001b[0my_train\u001b[0m\u001b[1;33m)\u001b[0m\u001b[1;33m\u001b[0m\u001b[0m\n\u001b[0m\u001b[0;32m     11\u001b[0m         \u001b[1;31m# Predict scores for test data\u001b[0m\u001b[1;33m\u001b[0m\u001b[1;33m\u001b[0m\u001b[0m\n\u001b[0;32m     12\u001b[0m         \u001b[0my_pred\u001b[0m \u001b[1;33m=\u001b[0m \u001b[0my_transform\u001b[0m\u001b[1;33m(\u001b[0m\u001b[0mclf\u001b[0m\u001b[1;33m.\u001b[0m\u001b[0mpredict\u001b[0m\u001b[1;33m(\u001b[0m\u001b[0mX_test\u001b[0m\u001b[1;33m)\u001b[0m\u001b[1;33m)\u001b[0m\u001b[1;33m\u001b[0m\u001b[0m\n",
      "\u001b[1;32m/usr/local/lib/python3.4/dist-packages/sklearn/ensemble/forest.py\u001b[0m in \u001b[0;36mfit\u001b[1;34m(self, X, y, sample_weight)\u001b[0m\n\u001b[0;32m    258\u001b[0m \u001b[1;33m\u001b[0m\u001b[0m\n\u001b[0;32m    259\u001b[0m         \u001b[1;32mfor\u001b[0m \u001b[0mi\u001b[0m \u001b[1;32min\u001b[0m \u001b[0mrange\u001b[0m\u001b[1;33m(\u001b[0m\u001b[0mself\u001b[0m\u001b[1;33m.\u001b[0m\u001b[0mn_estimators\u001b[0m\u001b[1;33m)\u001b[0m\u001b[1;33m:\u001b[0m\u001b[1;33m\u001b[0m\u001b[0m\n\u001b[1;32m--> 260\u001b[1;33m             \u001b[0mtree\u001b[0m \u001b[1;33m=\u001b[0m \u001b[0mself\u001b[0m\u001b[1;33m.\u001b[0m\u001b[0m_make_estimator\u001b[0m\u001b[1;33m(\u001b[0m\u001b[0mappend\u001b[0m\u001b[1;33m=\u001b[0m\u001b[1;32mFalse\u001b[0m\u001b[1;33m)\u001b[0m\u001b[1;33m\u001b[0m\u001b[0m\n\u001b[0m\u001b[0;32m    261\u001b[0m             \u001b[0mtree\u001b[0m\u001b[1;33m.\u001b[0m\u001b[0mset_params\u001b[0m\u001b[1;33m(\u001b[0m\u001b[0mrandom_state\u001b[0m\u001b[1;33m=\u001b[0m\u001b[0mrandom_state\u001b[0m\u001b[1;33m.\u001b[0m\u001b[0mrandint\u001b[0m\u001b[1;33m(\u001b[0m\u001b[0mMAX_INT\u001b[0m\u001b[1;33m)\u001b[0m\u001b[1;33m)\u001b[0m\u001b[1;33m\u001b[0m\u001b[0m\n\u001b[0;32m    262\u001b[0m             \u001b[0mtrees\u001b[0m\u001b[1;33m.\u001b[0m\u001b[0mappend\u001b[0m\u001b[1;33m(\u001b[0m\u001b[0mtree\u001b[0m\u001b[1;33m)\u001b[0m\u001b[1;33m\u001b[0m\u001b[0m\n",
      "\u001b[1;32m/usr/local/lib/python3.4/dist-packages/sklearn/ensemble/base.py\u001b[0m in \u001b[0;36m_make_estimator\u001b[1;34m(self, append)\u001b[0m\n\u001b[0;32m     74\u001b[0m         \u001b[0msub\u001b[0m\u001b[1;33m-\u001b[0m\u001b[0mestimators\u001b[0m\u001b[1;33m.\u001b[0m\u001b[1;33m\u001b[0m\u001b[0m\n\u001b[0;32m     75\u001b[0m         \"\"\"\n\u001b[1;32m---> 76\u001b[1;33m         \u001b[0mestimator\u001b[0m \u001b[1;33m=\u001b[0m \u001b[0mclone\u001b[0m\u001b[1;33m(\u001b[0m\u001b[0mself\u001b[0m\u001b[1;33m.\u001b[0m\u001b[0mbase_estimator_\u001b[0m\u001b[1;33m)\u001b[0m\u001b[1;33m\u001b[0m\u001b[0m\n\u001b[0m\u001b[0;32m     77\u001b[0m         estimator.set_params(**dict((p, getattr(self, p))\n\u001b[0;32m     78\u001b[0m                                     for p in self.estimator_params))\n",
      "\u001b[1;32m/usr/local/lib/python3.4/dist-packages/sklearn/base.py\u001b[0m in \u001b[0;36mclone\u001b[1;34m(estimator, safe)\u001b[0m\n\u001b[0;32m     47\u001b[0m         \u001b[0mnew_object_params\u001b[0m\u001b[1;33m[\u001b[0m\u001b[0mname\u001b[0m\u001b[1;33m]\u001b[0m \u001b[1;33m=\u001b[0m \u001b[0mclone\u001b[0m\u001b[1;33m(\u001b[0m\u001b[0mparam\u001b[0m\u001b[1;33m,\u001b[0m \u001b[0msafe\u001b[0m\u001b[1;33m=\u001b[0m\u001b[1;32mFalse\u001b[0m\u001b[1;33m)\u001b[0m\u001b[1;33m\u001b[0m\u001b[0m\n\u001b[0;32m     48\u001b[0m     \u001b[0mnew_object\u001b[0m \u001b[1;33m=\u001b[0m \u001b[0mklass\u001b[0m\u001b[1;33m(\u001b[0m\u001b[1;33m**\u001b[0m\u001b[0mnew_object_params\u001b[0m\u001b[1;33m)\u001b[0m\u001b[1;33m\u001b[0m\u001b[0m\n\u001b[1;32m---> 49\u001b[1;33m     \u001b[0mparams_set\u001b[0m \u001b[1;33m=\u001b[0m \u001b[0mnew_object\u001b[0m\u001b[1;33m.\u001b[0m\u001b[0mget_params\u001b[0m\u001b[1;33m(\u001b[0m\u001b[0mdeep\u001b[0m\u001b[1;33m=\u001b[0m\u001b[1;32mFalse\u001b[0m\u001b[1;33m)\u001b[0m\u001b[1;33m\u001b[0m\u001b[0m\n\u001b[0m\u001b[0;32m     50\u001b[0m \u001b[1;33m\u001b[0m\u001b[0m\n\u001b[0;32m     51\u001b[0m     \u001b[1;31m# quick sanity check of the parameters of the clone\u001b[0m\u001b[1;33m\u001b[0m\u001b[1;33m\u001b[0m\u001b[0m\n",
      "\u001b[1;32m/usr/local/lib/python3.4/dist-packages/sklearn/base.py\u001b[0m in \u001b[0;36mget_params\u001b[1;34m(self, deep)\u001b[0m\n\u001b[0;32m    202\u001b[0m         \"\"\"\n\u001b[0;32m    203\u001b[0m         \u001b[0mout\u001b[0m \u001b[1;33m=\u001b[0m \u001b[0mdict\u001b[0m\u001b[1;33m(\u001b[0m\u001b[1;33m)\u001b[0m\u001b[1;33m\u001b[0m\u001b[0m\n\u001b[1;32m--> 204\u001b[1;33m         \u001b[1;32mfor\u001b[0m \u001b[0mkey\u001b[0m \u001b[1;32min\u001b[0m \u001b[0mself\u001b[0m\u001b[1;33m.\u001b[0m\u001b[0m_get_param_names\u001b[0m\u001b[1;33m(\u001b[0m\u001b[1;33m)\u001b[0m\u001b[1;33m:\u001b[0m\u001b[1;33m\u001b[0m\u001b[0m\n\u001b[0m\u001b[0;32m    205\u001b[0m             \u001b[1;31m# We need deprecation warnings to always be on in order to\u001b[0m\u001b[1;33m\u001b[0m\u001b[1;33m\u001b[0m\u001b[0m\n\u001b[0;32m    206\u001b[0m             \u001b[1;31m# catch deprecated param values.\u001b[0m\u001b[1;33m\u001b[0m\u001b[1;33m\u001b[0m\u001b[0m\n",
      "\u001b[1;32m/usr/local/lib/python3.4/dist-packages/sklearn/base.py\u001b[0m in \u001b[0;36m_get_param_names\u001b[1;34m(cls)\u001b[0m\n\u001b[0;32m    173\u001b[0m         \u001b[1;31m# introspect the constructor arguments to find the model parameters\u001b[0m\u001b[1;33m\u001b[0m\u001b[1;33m\u001b[0m\u001b[0m\n\u001b[0;32m    174\u001b[0m         \u001b[1;31m# to represent\u001b[0m\u001b[1;33m\u001b[0m\u001b[1;33m\u001b[0m\u001b[0m\n\u001b[1;32m--> 175\u001b[1;33m         \u001b[0margs\u001b[0m\u001b[1;33m,\u001b[0m \u001b[0mvarargs\u001b[0m\u001b[1;33m,\u001b[0m \u001b[0mkw\u001b[0m\u001b[1;33m,\u001b[0m \u001b[0mdefault\u001b[0m \u001b[1;33m=\u001b[0m \u001b[0minspect\u001b[0m\u001b[1;33m.\u001b[0m\u001b[0mgetargspec\u001b[0m\u001b[1;33m(\u001b[0m\u001b[0minit\u001b[0m\u001b[1;33m)\u001b[0m\u001b[1;33m\u001b[0m\u001b[0m\n\u001b[0m\u001b[0;32m    176\u001b[0m         \u001b[1;32mif\u001b[0m \u001b[0mvarargs\u001b[0m \u001b[1;32mis\u001b[0m \u001b[1;32mnot\u001b[0m \u001b[1;32mNone\u001b[0m\u001b[1;33m:\u001b[0m\u001b[1;33m\u001b[0m\u001b[0m\n\u001b[0;32m    177\u001b[0m             raise RuntimeError(\"scikit-learn estimators should always \"\n",
      "\u001b[1;32m/usr/lib/python3.4/inspect.py\u001b[0m in \u001b[0;36mgetargspec\u001b[1;34m(func)\u001b[0m\n\u001b[0;32m    926\u001b[0m \u001b[1;33m\u001b[0m\u001b[0m\n\u001b[0;32m    927\u001b[0m     \u001b[0margs\u001b[0m\u001b[1;33m,\u001b[0m \u001b[0mvarargs\u001b[0m\u001b[1;33m,\u001b[0m \u001b[0mvarkw\u001b[0m\u001b[1;33m,\u001b[0m \u001b[0mdefaults\u001b[0m\u001b[1;33m,\u001b[0m \u001b[0mkwonlyargs\u001b[0m\u001b[1;33m,\u001b[0m \u001b[0mkwonlydefaults\u001b[0m\u001b[1;33m,\u001b[0m \u001b[0mann\u001b[0m \u001b[1;33m=\u001b[0m\u001b[0;31m \u001b[0m\u001b[0;31m\\\u001b[0m\u001b[1;33m\u001b[0m\u001b[0m\n\u001b[1;32m--> 928\u001b[1;33m         \u001b[0mgetfullargspec\u001b[0m\u001b[1;33m(\u001b[0m\u001b[0mfunc\u001b[0m\u001b[1;33m)\u001b[0m\u001b[1;33m\u001b[0m\u001b[0m\n\u001b[0m\u001b[0;32m    929\u001b[0m     \u001b[1;32mif\u001b[0m \u001b[0mkwonlyargs\u001b[0m \u001b[1;32mor\u001b[0m \u001b[0mann\u001b[0m\u001b[1;33m:\u001b[0m\u001b[1;33m\u001b[0m\u001b[0m\n\u001b[0;32m    930\u001b[0m         raise ValueError(\"Function has keyword-only arguments or annotations\"\n",
      "\u001b[1;32m/usr/lib/python3.4/inspect.py\u001b[0m in \u001b[0;36mgetfullargspec\u001b[1;34m(func)\u001b[0m\n\u001b[0;32m   1020\u001b[0m \u001b[1;33m\u001b[0m\u001b[0m\n\u001b[0;32m   1021\u001b[0m     return FullArgSpec(args, varargs, varkw, defaults,\n\u001b[1;32m-> 1022\u001b[1;33m                        kwonlyargs, kwdefaults, annotations)\n\u001b[0m\u001b[0;32m   1023\u001b[0m \u001b[1;33m\u001b[0m\u001b[0m\n\u001b[0;32m   1024\u001b[0m \u001b[1;33m\u001b[0m\u001b[0m\n",
      "\u001b[1;31mKeyboardInterrupt\u001b[0m: "
     ]
    }
   ],
   "source": [
    "import sklearn.ensemble\n",
    "clf = sklearn.ensemble.RandomForestRegressor(250, random_state=42)\n",
    "support, ranking = rfa(clf, X, y, col_names=cols)"
   ]
  }
 ],
 "metadata": {
  "kernelspec": {
   "display_name": "Python 3",
   "language": "python",
   "name": "python3"
  },
  "language_info": {
   "codemirror_mode": {
    "name": "ipython",
    "version": 3
   },
   "file_extension": ".py",
   "mimetype": "text/x-python",
   "name": "python",
   "nbconvert_exporter": "python",
   "pygments_lexer": "ipython3",
   "version": "3.4.2"
  }
 },
 "nbformat": 4,
 "nbformat_minor": 0
}
