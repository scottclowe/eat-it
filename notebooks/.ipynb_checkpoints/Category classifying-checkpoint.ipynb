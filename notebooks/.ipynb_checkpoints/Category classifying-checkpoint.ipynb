{
 "cells": [
  {
   "cell_type": "code",
   "execution_count": 1,
   "metadata": {
    "collapsed": false
   },
   "outputs": [
    {
     "name": "stdout",
     "output_type": "stream",
     "text": [
      "/home/scott/Documents/git/bite-me\n"
     ]
    }
   ],
   "source": [
    "cd .."
   ]
  },
  {
   "cell_type": "code",
   "execution_count": 2,
   "metadata": {
    "collapsed": true
   },
   "outputs": [],
   "source": [
    "import sklearn\n",
    "import pandas as pd\n",
    "import numpy as np\n",
    "import datetime"
   ]
  },
  {
   "cell_type": "code",
   "execution_count": 3,
   "metadata": {
    "collapsed": false
   },
   "outputs": [
    {
     "name": "stderr",
     "output_type": "stream",
     "text": [
      "/usr/local/lib/python3.4/dist-packages/matplotlib/backends/backend_gtk3agg.py:18: UserWarning: The Gtk3Agg backend is known to not work on Python 3.x with pycairo. Try installing cairocffi.\n",
      "  \"The Gtk3Agg backend is known to not work on Python 3.x with pycairo. \"\n"
     ]
    }
   ],
   "source": [
    "from IPython.display import HTML\n",
    "import matplotlib as mpl\n",
    "import matplotlib.pyplot as plt\n",
    "%matplotlib inline\n",
    "import seaborn as sns"
   ]
  },
  {
   "cell_type": "code",
   "execution_count": 4,
   "metadata": {
    "collapsed": true
   },
   "outputs": [],
   "source": [
    "import sklearn.linear_model\n",
    "import sklearn.cross_validation"
   ]
  },
  {
   "cell_type": "code",
   "execution_count": 5,
   "metadata": {
    "collapsed": false
   },
   "outputs": [],
   "source": [
    "from eat_it import StratifiedPercentileKFold"
   ]
  },
  {
   "cell_type": "code",
   "execution_count": 6,
   "metadata": {
    "collapsed": false
   },
   "outputs": [],
   "source": [
    "from eat_it import boxcoxscaler"
   ]
  },
  {
   "cell_type": "code",
   "execution_count": 7,
   "metadata": {
    "collapsed": true
   },
   "outputs": [],
   "source": [
    "import imp"
   ]
  },
  {
   "cell_type": "code",
   "execution_count": 8,
   "metadata": {
    "collapsed": true
   },
   "outputs": [],
   "source": [
    "import pdb, traceback, sys, code"
   ]
  },
  {
   "cell_type": "code",
   "execution_count": 9,
   "metadata": {
    "collapsed": false
   },
   "outputs": [],
   "source": [
    "rng = sklearn.utils.check_random_state(0)"
   ]
  },
  {
   "cell_type": "code",
   "execution_count": 10,
   "metadata": {
    "collapsed": false
   },
   "outputs": [],
   "source": [
    "train = pd.read_csv('data/train.csv', encoding=\"utf-8\")"
   ]
  },
  {
   "cell_type": "code",
   "execution_count": 11,
   "metadata": {
    "collapsed": false
   },
   "outputs": [],
   "source": [
    "# Add age in days\n",
    "end_dt = datetime.datetime.strptime('2015-1-1', \"%Y-%m-%d\")\n",
    "train['Age'] = [(end_dt - datetime.datetime.strptime(open_dt, \"%m/%d/%Y\")).days for open_dt in train['Open Date']]"
   ]
  },
  {
   "cell_type": "code",
   "execution_count": 12,
   "metadata": {
    "collapsed": false
   },
   "outputs": [],
   "source": [
    "# add size as boolean\n",
    "train['isBig'] = train['City Group']=='Big Cities'"
   ]
  },
  {
   "cell_type": "code",
   "execution_count": 13,
   "metadata": {
    "collapsed": false
   },
   "outputs": [],
   "source": [
    "train['isIL'] = train['Type']=='IL'"
   ]
  },
  {
   "cell_type": "code",
   "execution_count": 14,
   "metadata": {
    "collapsed": true
   },
   "outputs": [],
   "source": [
    "cols = ['P'+str(i) for i in range(1,38)]\n",
    "cols.append('Age')\n",
    "cols.append('isBig')\n",
    "cols.append('isIL')"
   ]
  },
  {
   "cell_type": "code",
   "execution_count": 15,
   "metadata": {
    "collapsed": false,
    "scrolled": true
   },
   "outputs": [
    {
     "data": {
      "text/plain": [
       "['P1',\n",
       " 'P2',\n",
       " 'P3',\n",
       " 'P4',\n",
       " 'P5',\n",
       " 'P6',\n",
       " 'P7',\n",
       " 'P8',\n",
       " 'P9',\n",
       " 'P10',\n",
       " 'P11',\n",
       " 'P12',\n",
       " 'P13',\n",
       " 'P14',\n",
       " 'P15',\n",
       " 'P16',\n",
       " 'P17',\n",
       " 'P18',\n",
       " 'P19',\n",
       " 'P20',\n",
       " 'P21',\n",
       " 'P22',\n",
       " 'P23',\n",
       " 'P24',\n",
       " 'P25',\n",
       " 'P26',\n",
       " 'P27',\n",
       " 'P28',\n",
       " 'P29',\n",
       " 'P30',\n",
       " 'P31',\n",
       " 'P32',\n",
       " 'P33',\n",
       " 'P34',\n",
       " 'P35',\n",
       " 'P36',\n",
       " 'P37',\n",
       " 'Age',\n",
       " 'isBig',\n",
       " 'isIL']"
      ]
     },
     "execution_count": 15,
     "metadata": {},
     "output_type": "execute_result"
    }
   ],
   "source": [
    "cols"
   ]
  },
  {
   "cell_type": "code",
   "execution_count": 16,
   "metadata": {
    "collapsed": true
   },
   "outputs": [],
   "source": [
    "X = train.as_matrix(cols)"
   ]
  },
  {
   "cell_type": "code",
   "execution_count": 37,
   "metadata": {
    "collapsed": false,
    "scrolled": true
   },
   "outputs": [],
   "source": [
    "X = X.astype(np.float)"
   ]
  },
  {
   "cell_type": "code",
   "execution_count": 17,
   "metadata": {
    "collapsed": false
   },
   "outputs": [],
   "source": [
    "y = train['revenue'].values"
   ]
  },
  {
   "cell_type": "code",
   "execution_count": 18,
   "metadata": {
    "collapsed": true
   },
   "outputs": [],
   "source": [
    "X_indices = train['Id'].values"
   ]
  },
  {
   "cell_type": "code",
   "execution_count": 29,
   "metadata": {
    "collapsed": true
   },
   "outputs": [],
   "source": [
    "def do_cv(cv, clf, y_transform=None, X=X, y=y):\n",
    "    if y_transform is None:\n",
    "        y_transform = lambda x: x\n",
    "    scores = []\n",
    "    all_pred = np.zeros((y.shape))\n",
    "    for train_index, test_index in cv:\n",
    "        X_train, X_test = X[train_index], X[test_index]\n",
    "        y_train, y_test = y[train_index], y[test_index]\n",
    "        # Fit model\n",
    "        clf.fit(X_train, y_train)\n",
    "        # Predict scores for test data\n",
    "        y_pred = y_transform(clf.predict(X_test))\n",
    "        # Save all the predictions to an array\n",
    "        all_pred[test_index] = y_pred\n",
    "        # Compute mean squared error on this test set\n",
    "        mse = sklearn.metrics.mean_squared_error(y_transform(y_test),y_pred)\n",
    "        scores.append(mse)\n",
    "    # Compute MSE for \n",
    "    all_score = sklearn.metrics.mean_squared_error(y_transform(y), all_pred)**0.5\n",
    "    scores = np.asarray(scores)**0.5\n",
    "    return all_score, scores"
   ]
  },
  {
   "cell_type": "code",
   "execution_count": 20,
   "metadata": {
    "collapsed": true
   },
   "outputs": [],
   "source": [
    "clf = sklearn.linear_model.LinearRegression()"
   ]
  },
  {
   "cell_type": "code",
   "execution_count": 27,
   "metadata": {
    "collapsed": false
   },
   "outputs": [],
   "source": [
    "def get_cv_results(X=X, y=y, clf=clf, n_folds=10, n_samp=25):\n",
    "    all_scores = []\n",
    "    for seed in range(n_samp):\n",
    "        cv = StratifiedPercentileKFold.StratifiedPercentileKFold(y, n_folds=n_folds, shuffle=True, random_state=seed, shuffle_windows=True)\n",
    "        this_score, _ = do_cv(cv, clf, X=X, y=y)\n",
    "        all_scores.append(this_score)\n",
    "    return np.mean(all_scores), np.std(all_scores)/np.sqrt(n_folds)\n",
    "\n",
    "def get_mean_cv_score(*args, **kwargs):\n",
    "    out = get_cv_results(*args, **kwargs)\n",
    "    return out[0]"
   ]
  },
  {
   "cell_type": "code",
   "execution_count": 31,
   "metadata": {
    "collapsed": false
   },
   "outputs": [
    {
     "data": {
      "text/plain": [
       "<module 'eat_it.boxcoxscaler' from '/home/scott/Documents/git/bite-me/eat_it/boxcoxscaler.py'>"
      ]
     },
     "execution_count": 31,
     "metadata": {},
     "output_type": "execute_result"
    }
   ],
   "source": [
    "imp.reload(boxcoxscaler)"
   ]
  },
  {
   "cell_type": "code",
   "execution_count": 54,
   "metadata": {
    "collapsed": false,
    "scrolled": true
   },
   "outputs": [
    {
     "name": "stdout",
     "output_type": "stream",
     "text": [
      "P1 def    2576501.425261927+/-1674.7538239658352\n",
      "P1 OneHot 2641405.5791093106+/-17836.454325579176\n",
      "P1 BoxCox 2551493.6777862445+/-1406.5157171772676\n",
      "Better as a BoxCox for P1\n",
      "\n",
      "P2 def    2532881.0374807585+/-1454.2701666066878\n",
      "P2 OneHot 2489262.84933021+/-3572.996613862742\n",
      "P2 BoxCox 2532335.796021701+/-1442.8885412363475\n",
      "Better as a OneHot for P2\n",
      "\n",
      "P3 def    2579988.906546276+/-1386.9967928985097\n",
      "P3 OneHot 4.082820825766529e+18+/-3.5827735010198815e+18\n",
      "P3 BoxCox 2580044.373100291+/-1392.597910560708\n",
      "Better as a BoxCox for P3\n",
      "(Or better with the default)\n",
      "\n",
      "P4 def    2577457.4877905953+/-1155.3650573816255\n",
      "P4 OneHot 2617267.2321553407+/-4468.936323119645\n",
      "P4 BoxCox 2577108.991750172+/-1255.6097838949913\n",
      "Better as a BoxCox for P4\n",
      "\n",
      "P5 def    2575668.7280395366+/-886.4260962218722\n",
      "P5 OneHot 1.1974532945662058e+19+/-5.249434037600677e+18\n",
      "P5 BoxCox 2584205.0992767564+/-1732.84071887422\n",
      "Better as a BoxCox for P5\n",
      "(Or better with the default)\n",
      "\n",
      "P6 def    2561706.9700108883+/-2202.1484246797777\n",
      "P6 OneHot 2597185.112324499+/-8359.254427426775\n",
      "P6 BoxCox 2528314.602889197+/-1830.5608823883367\n",
      "Better as a BoxCox for P6\n",
      "\n",
      "P7 def    2575379.771499339+/-1176.0369055875115\n",
      "P7 OneHot 1.5039119537798234e+19+/-5.846766044552389e+18\n",
      "P7 BoxCox 2572157.669006017+/-1133.0072892132898\n",
      "Better as a BoxCox for P7\n",
      "\n",
      "P8 def    2576801.986321937+/-1638.4860384761137\n",
      "P8 OneHot 2.292445772763243e+19+/-7.712148080266594e+18\n",
      "P8 BoxCox 2573721.8492845166+/-2048.5270396955893\n",
      "Better as a BoxCox for P8\n",
      "\n",
      "P9 def    2578533.2928457707+/-1295.804339147139\n",
      "P9 OneHot 2604286.734122917+/-3442.40354337427\n",
      "P9 BoxCox 2583575.94935922+/-2011.2251443267337\n",
      "Better as a BoxCox for P9\n",
      "(Or better with the default)\n",
      "\n",
      "P10 def    2577999.7663954743+/-1442.9325972036902\n",
      "P10 OneHot 2564162.445797992+/-4313.835240923727\n",
      "P10 BoxCox 2566622.5916520697+/-2392.340123470482\n",
      "Results inconclusive for P10\n",
      "\n",
      "P11 def    2573454.723299591+/-1504.1162949822376\n",
      "P11 OneHot 2643666.4394016867+/-10853.036023057786\n",
      "P11 BoxCox 2568325.3089097138+/-1674.4356061592982\n",
      "Better as a BoxCox for P11\n",
      "\n",
      "P12 def    2580510.7602434503+/-1641.393587918123\n",
      "P12 OneHot 1.9656828213081818e+18+/-3.3156981388645837e+18\n",
      "P12 BoxCox 2584985.9830280333+/-2279.3087588741114\n",
      "Results inconclusive for P12\n",
      "(Or better with the default)\n",
      "\n",
      "P13 def    2575046.3889007987+/-1743.9575434387714\n",
      "P13 OneHot 1.5998725270398213e+18+/-4.035473858925022e+18\n",
      "P13 BoxCox 2571242.1918821703+/-2179.7170741670902\n",
      "Results inconclusive for P13\n",
      "\n",
      "P14 def    2584158.1964165927+/-1661.8021657274207\n",
      "P14 OneHot 8.401533833187049e+18+/-5.302774779089491e+18\n",
      "P14 BoxCox 2588927.0099029606+/-1877.7576261769188\n",
      "Better as a BoxCox for P14\n",
      "(Or better with the default)\n",
      "\n",
      "P15 def    2585677.1763651264+/-1661.0613613382825\n",
      "P15 OneHot 1.1587117899816776e+17+/-4.938465841699147e+17\n",
      "P15 BoxCox 2588949.8135803603+/-1889.6002498720095\n",
      "Results inconclusive for P15\n",
      "(Or better with the default)\n",
      "\n",
      "P16 def    2578630.113638504+/-1211.2251474502807\n",
      "P16 OneHot 7.083529755938159e+18+/-4.5284499938675313e+18\n",
      "P16 BoxCox 2587822.68167768+/-1811.233623763137\n",
      "Better as a BoxCox for P16\n",
      "(Or better with the default)\n",
      "\n",
      "P17 def    2599917.675802987+/-4301.8183609456855\n",
      "P17 OneHot 1.9246710749990236e+19+/-6.26827838627625e+18\n",
      "P17 BoxCox 2589383.4075316666+/-1921.6711118030526\n",
      "Better as a BoxCox for P17\n",
      "\n",
      "P18 def    2578741.630328327+/-1147.5639179676114\n",
      "P18 OneHot 2.4476873833959823e+18+/-2.9585502572340506e+18\n",
      "P18 BoxCox 2587254.7898637294+/-1749.870627778856\n",
      "Results inconclusive for P18\n",
      "(Or better with the default)\n",
      "\n",
      "P19 def    2578847.4438360324+/-1156.7861586365125\n",
      "P19 OneHot 1.4713872497291054e+18+/-2.797076097520517e+18\n",
      "P19 BoxCox 2593143.062442201+/-2222.9242623021814\n",
      "Results inconclusive for P19\n",
      "(Or better with the default)\n",
      "\n",
      "P20 def    2578222.8742794963+/-1064.0807448834905\n",
      "P20 OneHot 4.894476931709964e+18+/-3.054962454784355e+18\n",
      "P20 BoxCox 2570444.7751987097+/-1450.0416105911106\n",
      "Better as a BoxCox for P20\n",
      "\n",
      "P21 def    2583332.304556263+/-3473.31138895988\n",
      "P21 OneHot 1.4296346690958638e+18+/-2.3147630106050565e+18\n",
      "P21 BoxCox 2561792.9381639687+/-2491.8879194447613\n",
      "Results inconclusive for P21\n",
      "\n",
      "P22 def    2593611.83294518+/-2672.1302057327835\n",
      "P22 OneHot 2630354.9371055784+/-5526.5990869348525\n",
      "P22 BoxCox 2597483.7426905613+/-2668.8946455625696\n",
      "Better as a BoxCox for P22\n",
      "(Or better with the default)\n",
      "\n",
      "P23 def    2574443.837759137+/-969.3915555883475\n",
      "P23 OneHot 8.07491560657588e+18+/-5.744810976577619e+18\n",
      "P23 BoxCox 2588203.263259825+/-2031.7249195028205\n",
      "Better as a BoxCox for P23\n",
      "(Or better with the default)\n",
      "\n",
      "P24 def    2586271.067024176+/-1843.7004847602018\n",
      "P24 OneHot 7.239189245342752e+17+/-2.1117661682334904e+18\n",
      "P24 BoxCox 2588485.2016952317+/-1865.9030642711843\n",
      "Results inconclusive for P24\n",
      "(Or better with the default)\n",
      "\n",
      "P25 def    2586113.054767354+/-1953.096988266278\n",
      "P25 OneHot 9.633156400789953e+17+/-2.435487435671167e+18\n",
      "P25 BoxCox 2588794.4611595375+/-1888.1487427341922\n",
      "Results inconclusive for P25\n",
      "(Or better with the default)\n",
      "\n",
      "P26 def    2584367.8052633447+/-1661.1127525466704\n",
      "P26 OneHot 9.437072205885792e+18+/-5.639456440973594e+18\n",
      "P26 BoxCox 2588432.1440488584+/-1872.8839609135252\n",
      "Better as a BoxCox for P26\n",
      "(Or better with the default)\n",
      "\n",
      "P27 def    2579481.054923754+/-1179.5887517214921\n",
      "P27 OneHot 1.205143299734594e+19+/-5.941161052498663e+18\n",
      "P27 BoxCox 2584595.754437259+/-1558.7290155249955\n",
      "Better as a BoxCox for P27\n",
      "(Or better with the default)\n",
      "\n",
      "P28 def    2556136.3638683246+/-2044.518889451424\n",
      "P28 OneHot 7.420879266467543e+17+/-2.0070171597347924e+18\n",
      "P28 BoxCox 2511933.1291316906+/-1719.931160876284\n",
      "Results inconclusive for P28\n",
      "\n",
      "P29 def    2577431.406863336+/-2191.4747824585265\n",
      "P29 OneHot 1.1251589569548948e+18+/-2.4958199517551913e+18\n",
      "P29 BoxCox 2577430.984495304+/-3703.836497220629\n",
      "Results inconclusive for P29\n",
      "\n",
      "P30 def    2573644.697065155+/-1165.077909832502\n",
      "P30 OneHot 1.3741190249931776e+19+/-3.9356617014067313e+18\n",
      "P30 BoxCox 2586981.730280381+/-1793.7338093808073\n",
      "Better as a BoxCox for P30\n",
      "(Or better with the default)\n",
      "\n",
      "P31 def    2577810.082986787+/-1132.1194727254124\n",
      "P31 OneHot 1.0137904740061168e+19+/-6.61794547174517e+18\n",
      "P31 BoxCox 2587437.604015919+/-1830.042638852026\n",
      "Better as a BoxCox for P31\n",
      "(Or better with the default)\n",
      "\n",
      "P32 def    2570945.1731048157+/-776.839633655727\n",
      "P32 OneHot 4.1764091912050063e+18+/-3.174366285937633e+18\n",
      "P32 BoxCox 2586215.6652325466+/-1733.4772328205947\n",
      "Better as a BoxCox for P32\n",
      "(Or better with the default)\n",
      "\n",
      "P33 def    2580923.670432494+/-1366.1105436156388\n",
      "P33 OneHot 2.2200362371117512e+18+/-4.1474554651039206e+18\n",
      "P33 BoxCox 2586211.352746543+/-1721.3708041250588\n",
      "Results inconclusive for P33\n",
      "(Or better with the default)\n",
      "\n",
      "P34 def    2571124.3435543757+/-955.7231652665496\n",
      "P34 OneHot 4.230013170121956e+18+/-5.987230671887438e+18\n",
      "P34 BoxCox 2587287.790749371+/-1778.1220304888752\n",
      "Results inconclusive for P34\n",
      "(Or better with the default)\n",
      "\n",
      "P35 def    2578713.3590881606+/-1391.7633931447733\n",
      "P35 OneHot 1.3796794012191318e+19+/-5.936808711802719e+18\n",
      "P35 BoxCox 2587475.301741107+/-1808.8498591493312\n",
      "Better as a BoxCox for P35\n",
      "(Or better with the default)\n",
      "\n",
      "P36 def    2576360.2828613766+/-1119.171788933186\n",
      "P36 OneHot 1.912121798249272e+19+/-6.678415587753676e+18\n",
      "P36 BoxCox 2587732.8602348967+/-1797.5981784865016\n",
      "Better as a BoxCox for P36\n",
      "(Or better with the default)\n",
      "\n",
      "P37 def    2580625.8020255696+/-1209.3627478460112\n",
      "P37 OneHot 8.654716000308565e+18+/-4.913208570933469e+18\n",
      "P37 BoxCox 2586862.102755846+/-1702.06264489064\n",
      "Better as a BoxCox for P37\n",
      "(Or better with the default)\n",
      "\n",
      "Age def    2471592.2818326843+/-4535.055531150977\n",
      "Age OneHot 7.1136916659504234e+19+/-1.3375290135512988e+19\n",
      "Age BoxCox 2426962.891387324+/-2675.511736708074\n",
      "Better as a BoxCox for Age\n",
      "\n",
      "isBig def    2508300.9853816056+/-1477.3528867870452\n",
      "isBig OneHot 2508812.716574+/-1667.3624547486745\n",
      "isBig BoxCox 2508300.9853816056+/-1477.3528867870457\n",
      "Results inconclusive for isBig\n",
      "\n",
      "isIL def    2575856.1793435193+/-1802.9587469273608\n",
      "isIL OneHot 2578035.524153265+/-3393.112774777542\n",
      "isIL BoxCox 2575856.1793435193+/-1802.9587469273608\n",
      "Results inconclusive for isIL\n",
      "\n"
     ]
    }
   ],
   "source": [
    "n_samp = 250\n",
    "\n",
    "for icol,col in enumerate(cols):\n",
    "    X_ = X[:,[icol]]\n",
    "    \n",
    "    # Regular\n",
    "    mu0,se0 = get_cv_results(X_, n_samp=n_samp)\n",
    "    print('{} def    {}+/-{}'.format(col,mu0,se0))\n",
    "    \n",
    "    # OneHot\n",
    "    X_2 = sklearn.preprocessing.OneHotEncoder(sparse=False).fit_transform(X_)\n",
    "    mu1,se1 = get_cv_results(X_2, n_samp=n_samp)\n",
    "    print('{} OneHot {}+/-{}'.format(col,mu1,se1))\n",
    "    \n",
    "    # BoxCox\n",
    "    X_2 = boxcoxscaler.BoxCoxScaler().fit_transform(X_)\n",
    "    mu2,se2 = get_cv_results(X_2,  n_samp=n_samp)\n",
    "    print('{} BoxCox {}+/-{}'.format(col,mu2,se2))\n",
    "    \n",
    "    if abs(mu2 - mu1) < (se1 + se2):\n",
    "        print('Results inconclusive for ' + col)\n",
    "    elif mu2-se2 > mu1+se1:\n",
    "        print('Better as a OneHot for ' + col)\n",
    "    elif mu1-se1 > mu2+se2:\n",
    "        print('Better as a BoxCox for ' + col)\n",
    "    if mu0 < mu1 and mu0 < mu2:\n",
    "        print('(Or better with the default)')\n",
    "    \n",
    "    print()"
   ]
  }
 ],
 "metadata": {
  "kernelspec": {
   "display_name": "Python 3",
   "language": "python",
   "name": "python3"
  },
  "language_info": {
   "codemirror_mode": {
    "name": "ipython",
    "version": 3
   },
   "file_extension": ".py",
   "mimetype": "text/x-python",
   "name": "python",
   "nbconvert_exporter": "python",
   "pygments_lexer": "ipython3",
   "version": "3.4.2"
  }
 },
 "nbformat": 4,
 "nbformat_minor": 0
}
