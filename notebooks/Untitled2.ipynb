{
 "cells": [
  {
   "cell_type": "code",
   "execution_count": 5,
   "metadata": {
    "collapsed": false
   },
   "outputs": [
    {
     "name": "stdout",
     "output_type": "stream",
     "text": [
      " [-----------------100%-----------------] 10000 of 10000 complete in 18.3 secCPU times: user 18.3 s, sys: 9.79 ms, total: 18.3 s\n",
      "Wall time: 18.3 s\n"
     ]
    }
   ],
   "source": [
    "import pandas as pd\n",
    "from numpy import *\n",
    "from numpy.random import rand\n",
    "import pymc\n",
    "\n",
    "data=pd.DataFrame(rand(40))\n",
    "predictors=pd.DataFrame(rand(40,5))\n",
    "sigma = pymc.Uniform('sigma', 0.0, 200.0, value=20)\n",
    "params= array([pymc.Normal('%s_coef' % (c), mu=0, tau=1e-3,value=0) for c in predictors.columns])\n",
    "\n",
    "@pymc.deterministic(plot=False)\n",
    "def linear_regression_model(x=predictors,beta=params):\n",
    "    return dot(x,beta)\n",
    "\n",
    "ynode = pymc.Normal('ynode', mu=linear_regression_model, tau=1.0/sigma**2,value=data,observed=True)\n",
    "\n",
    "\n",
    "m = pymc.Model(concatenate((params,array([sigma,ynode]))))\n",
    "\n",
    "%time pymc.MCMC(m).sample(10000, 5000, 5, progress_bar=True)"
   ]
  }
 ],
 "metadata": {
  "kernelspec": {
   "display_name": "Python 3",
   "language": "python",
   "name": "python3"
  },
  "language_info": {
   "codemirror_mode": {
    "name": "ipython",
    "version": 3
   },
   "file_extension": ".py",
   "mimetype": "text/x-python",
   "name": "python",
   "nbconvert_exporter": "python",
   "pygments_lexer": "ipython3",
   "version": "3.4.2"
  }
 },
 "nbformat": 4,
 "nbformat_minor": 0
}
